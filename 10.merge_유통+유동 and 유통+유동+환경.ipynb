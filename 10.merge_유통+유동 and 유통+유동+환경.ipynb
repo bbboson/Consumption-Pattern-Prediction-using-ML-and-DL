{
 "cells": [
  {
   "cell_type": "code",
   "execution_count": 1,
   "metadata": {
    "ExecuteTime": {
     "end_time": "2019-08-27T12:56:19.238489Z",
     "start_time": "2019-08-27T12:56:09.398794Z"
    }
   },
   "outputs": [
    {
     "ename": "ModuleNotFoundError",
     "evalue": "No module named 'tbats'",
     "output_type": "error",
     "traceback": [
      "\u001b[1;31m---------------------------------------------------------------------------\u001b[0m",
      "\u001b[1;31mModuleNotFoundError\u001b[0m                       Traceback (most recent call last)",
      "\u001b[1;32m<ipython-input-1-4a0cc4ec952f>\u001b[0m in \u001b[0;36m<module>\u001b[1;34m\u001b[0m\n\u001b[0;32m     23\u001b[0m \u001b[1;32mfrom\u001b[0m \u001b[0mstatsmodels\u001b[0m\u001b[1;33m.\u001b[0m\u001b[0mgraphics\u001b[0m\u001b[1;33m.\u001b[0m\u001b[0mgofplots\u001b[0m \u001b[1;32mimport\u001b[0m \u001b[0mqqplot\u001b[0m\u001b[1;33m\u001b[0m\u001b[1;33m\u001b[0m\u001b[0m\n\u001b[0;32m     24\u001b[0m \u001b[1;32mfrom\u001b[0m \u001b[0mscipy\u001b[0m\u001b[1;33m.\u001b[0m\u001b[0mstats\u001b[0m \u001b[1;32mimport\u001b[0m \u001b[0mshapiro\u001b[0m\u001b[1;33m\u001b[0m\u001b[1;33m\u001b[0m\u001b[0m\n\u001b[1;32m---> 25\u001b[1;33m \u001b[1;32mimport\u001b[0m \u001b[0mtbats\u001b[0m\u001b[1;33m\u001b[0m\u001b[1;33m\u001b[0m\u001b[0m\n\u001b[0m\u001b[0;32m     26\u001b[0m \u001b[1;31m#import fbprophet\u001b[0m\u001b[1;33m\u001b[0m\u001b[1;33m\u001b[0m\u001b[1;33m\u001b[0m\u001b[0m\n\u001b[0;32m     27\u001b[0m \u001b[1;33m\u001b[0m\u001b[0m\n",
      "\u001b[1;31mModuleNotFoundError\u001b[0m: No module named 'tbats'"
     ]
    }
   ],
   "source": [
    "import os\n",
    "import fnmatch as fn\n",
    "import numpy as np\n",
    "import pandas as pd\n",
    "#!pip install dbfread\n",
    "import dbfread\n",
    "\n",
    "#!pip install pandas_profiling\n",
    "import pandas_profiling as pp\n",
    "import matplotlib\n",
    "import matplotlib.pyplot as plt\n",
    "from mpl_toolkits.mplot3d import Axes3D\n",
    "import seaborn as sns\n",
    "from matplotlib import font_manager, rc\n",
    "%matplotlib inline\n",
    "#%matplotlib notebook\n",
    "\n",
    "import descartes\n",
    "import geopandas as gpd\n",
    "from shapely.geometry import Point, Polygon\n",
    "from math import sin,cos,sqrt,atan2,radians \n",
    "from statsmodels.tsa.seasonal import seasonal_decompose\n",
    "from statsmodels.graphics.gofplots import qqplot\n",
    "from scipy.stats import shapiro\n",
    "import tbats\n",
    "#import fbprophet\n",
    "\n",
    "import requests\n",
    "import logging\n",
    "import time\n",
    "import googlemaps\n",
    "import reverse_geocoder\n",
    "import pprint\n",
    "import folium\n",
    "import zipfile\n",
    "import json\n",
    "#%matplotlib.inline\n",
    "\n",
    "matplotlib.rcParams['axes.unicode_minus'] = False # 마이너스 기호도 표시\n",
    "\n",
    "# 한글 깨짐 방지 목적 #\n",
    "font_name = font_manager.FontProperties(fname = 'c:/Windows/Fonts/malgun.ttf').get_name()\n",
    "rc('font',family = font_name)\n",
    "\n",
    "## 맥\n",
    "# rc('font', family='/Library/Fonts/AppleGothic.ttf')\n",
    "\n",
    "\n",
    "# 만약 plotly가 설치 되지 않았을 경우 하단의 코드를 실행할 것 #\n",
    "#!pip install plotly\n",
    "import plotly\n",
    "#!pip install cufflinks\n",
    "#import plotly.express as px\n",
    "# Cufflinks wrapper on plotly\n",
    "import cufflinks as cf\n",
    "import plotly.graph_objs as go\n",
    "import plotly.plotly as py\n",
    "import plotly.figure_factory as ff\n",
    "from plotly.offline import iplot\n",
    "from plotly.offline import init_notebook_mode, plot,iplot\n",
    "\n",
    "init_notebook_mode(connected = True)\n",
    "cf.go_offline()\n",
    "\n",
    "import warnings\n",
    "warnings.filterwarnings(action='ignore') # 경고 메시지를 숨길 때"
   ]
  },
  {
   "cell_type": "markdown",
   "metadata": {},
   "source": [
    "# Existed Merging form"
   ]
  },
  {
   "cell_type": "code",
   "execution_count": 2,
   "metadata": {
    "ExecuteTime": {
     "end_time": "2019-08-27T12:56:19.611492Z",
     "start_time": "2019-08-27T12:56:19.241481Z"
    }
   },
   "outputs": [
    {
     "data": {
      "text/html": [
       "<div>\n",
       "<style scoped>\n",
       "    .dataframe tbody tr th:only-of-type {\n",
       "        vertical-align: middle;\n",
       "    }\n",
       "\n",
       "    .dataframe tbody tr th {\n",
       "        vertical-align: top;\n",
       "    }\n",
       "\n",
       "    .dataframe thead th {\n",
       "        text-align: right;\n",
       "    }\n",
       "</style>\n",
       "<table border=\"1\" class=\"dataframe\">\n",
       "  <thead>\n",
       "    <tr style=\"text-align: right;\">\n",
       "      <th></th>\n",
       "      <th>date</th>\n",
       "      <th>year</th>\n",
       "      <th>quarter</th>\n",
       "      <th>month</th>\n",
       "      <th>weekday</th>\n",
       "      <th>day</th>\n",
       "      <th>district</th>\n",
       "      <th>p10_most_freq_day</th>\n",
       "      <th>p10_mean_day</th>\n",
       "      <th>p10_25per</th>\n",
       "      <th>...</th>\n",
       "      <th>AMT_IND_60</th>\n",
       "      <th>AMT_IND_70</th>\n",
       "      <th>AMT_IND_80</th>\n",
       "      <th>tp_method1</th>\n",
       "      <th>cri</th>\n",
       "      <th>gs_num</th>\n",
       "      <th>min_gs</th>\n",
       "      <th>max_gs</th>\n",
       "      <th>median_gs</th>\n",
       "      <th>gsindex1</th>\n",
       "    </tr>\n",
       "  </thead>\n",
       "  <tbody>\n",
       "    <tr>\n",
       "      <th>0</th>\n",
       "      <td>2018-04-01</td>\n",
       "      <td>2018</td>\n",
       "      <td>2</td>\n",
       "      <td>4</td>\n",
       "      <td>Sunday</td>\n",
       "      <td>1</td>\n",
       "      <td>가회동</td>\n",
       "      <td>나쁨</td>\n",
       "      <td>66.773843</td>\n",
       "      <td>57.656944</td>\n",
       "      <td>...</td>\n",
       "      <td>0.007142</td>\n",
       "      <td>0.015259</td>\n",
       "      <td>0.000732</td>\n",
       "      <td>17191.22</td>\n",
       "      <td>2018-03-31</td>\n",
       "      <td>1</td>\n",
       "      <td>0.0</td>\n",
       "      <td>0.0</td>\n",
       "      <td>0.0</td>\n",
       "      <td>1.211474</td>\n",
       "    </tr>\n",
       "    <tr>\n",
       "      <th>1</th>\n",
       "      <td>2018-04-02</td>\n",
       "      <td>2018</td>\n",
       "      <td>2</td>\n",
       "      <td>4</td>\n",
       "      <td>Monday</td>\n",
       "      <td>2</td>\n",
       "      <td>가회동</td>\n",
       "      <td>나쁨</td>\n",
       "      <td>64.771759</td>\n",
       "      <td>56.862500</td>\n",
       "      <td>...</td>\n",
       "      <td>0.001952</td>\n",
       "      <td>0.001996</td>\n",
       "      <td>0.009537</td>\n",
       "      <td>32378.20</td>\n",
       "      <td>2018-03-31</td>\n",
       "      <td>1</td>\n",
       "      <td>0.0</td>\n",
       "      <td>0.0</td>\n",
       "      <td>0.0</td>\n",
       "      <td>0.997001</td>\n",
       "    </tr>\n",
       "    <tr>\n",
       "      <th>2</th>\n",
       "      <td>2018-04-03</td>\n",
       "      <td>2018</td>\n",
       "      <td>2</td>\n",
       "      <td>4</td>\n",
       "      <td>Tuesday</td>\n",
       "      <td>3</td>\n",
       "      <td>가회동</td>\n",
       "      <td>나쁨</td>\n",
       "      <td>63.759838</td>\n",
       "      <td>48.220833</td>\n",
       "      <td>...</td>\n",
       "      <td>0.005172</td>\n",
       "      <td>0.007284</td>\n",
       "      <td>0.007231</td>\n",
       "      <td>35185.26</td>\n",
       "      <td>2018-03-31</td>\n",
       "      <td>1</td>\n",
       "      <td>0.0</td>\n",
       "      <td>0.0</td>\n",
       "      <td>0.0</td>\n",
       "      <td>0.451986</td>\n",
       "    </tr>\n",
       "    <tr>\n",
       "      <th>3</th>\n",
       "      <td>2018-04-04</td>\n",
       "      <td>2018</td>\n",
       "      <td>2</td>\n",
       "      <td>4</td>\n",
       "      <td>Wednesday</td>\n",
       "      <td>4</td>\n",
       "      <td>가회동</td>\n",
       "      <td>좋음</td>\n",
       "      <td>18.720500</td>\n",
       "      <td>10.300589</td>\n",
       "      <td>...</td>\n",
       "      <td>0.013560</td>\n",
       "      <td>0.091377</td>\n",
       "      <td>0.003216</td>\n",
       "      <td>34655.78</td>\n",
       "      <td>2018-03-31</td>\n",
       "      <td>1</td>\n",
       "      <td>0.0</td>\n",
       "      <td>0.0</td>\n",
       "      <td>0.0</td>\n",
       "      <td>0.085016</td>\n",
       "    </tr>\n",
       "    <tr>\n",
       "      <th>4</th>\n",
       "      <td>2018-04-05</td>\n",
       "      <td>2018</td>\n",
       "      <td>2</td>\n",
       "      <td>4</td>\n",
       "      <td>Thursday</td>\n",
       "      <td>5</td>\n",
       "      <td>가회동</td>\n",
       "      <td>좋음</td>\n",
       "      <td>12.597801</td>\n",
       "      <td>10.083333</td>\n",
       "      <td>...</td>\n",
       "      <td>0.018180</td>\n",
       "      <td>0.030341</td>\n",
       "      <td>0.011542</td>\n",
       "      <td>33459.81</td>\n",
       "      <td>2018-03-31</td>\n",
       "      <td>1</td>\n",
       "      <td>0.0</td>\n",
       "      <td>0.0</td>\n",
       "      <td>0.0</td>\n",
       "      <td>1.012667</td>\n",
       "    </tr>\n",
       "  </tbody>\n",
       "</table>\n",
       "<p>5 rows × 85 columns</p>\n",
       "</div>"
      ],
      "text/plain": [
       "         date  year  quarter  month    weekday  day district  \\\n",
       "0  2018-04-01  2018        2      4     Sunday    1      가회동   \n",
       "1  2018-04-02  2018        2      4     Monday    2      가회동   \n",
       "2  2018-04-03  2018        2      4    Tuesday    3      가회동   \n",
       "3  2018-04-04  2018        2      4  Wednesday    4      가회동   \n",
       "4  2018-04-05  2018        2      4   Thursday    5      가회동   \n",
       "\n",
       "  p10_most_freq_day  p10_mean_day  p10_25per  ...  AMT_IND_60  AMT_IND_70  \\\n",
       "0                나쁨     66.773843  57.656944  ...    0.007142    0.015259   \n",
       "1                나쁨     64.771759  56.862500  ...    0.001952    0.001996   \n",
       "2                나쁨     63.759838  48.220833  ...    0.005172    0.007284   \n",
       "3                좋음     18.720500  10.300589  ...    0.013560    0.091377   \n",
       "4                좋음     12.597801  10.083333  ...    0.018180    0.030341   \n",
       "\n",
       "  AMT_IND_80  tp_method1         cri  gs_num  min_gs  max_gs  median_gs  \\\n",
       "0   0.000732    17191.22  2018-03-31       1     0.0     0.0        0.0   \n",
       "1   0.009537    32378.20  2018-03-31       1     0.0     0.0        0.0   \n",
       "2   0.007231    35185.26  2018-03-31       1     0.0     0.0        0.0   \n",
       "3   0.003216    34655.78  2018-03-31       1     0.0     0.0        0.0   \n",
       "4   0.011542    33459.81  2018-03-31       1     0.0     0.0        0.0   \n",
       "\n",
       "   gsindex1  \n",
       "0  1.211474  \n",
       "1  0.997001  \n",
       "2  0.451986  \n",
       "3  0.085016  \n",
       "4  1.012667  \n",
       "\n",
       "[5 rows x 85 columns]"
      ]
     },
     "execution_count": 2,
     "metadata": {},
     "output_type": "execute_result"
    }
   ],
   "source": [
    "df = pd.read_csv('가공데이터/merge_유통_유동_환경_소상공인_edit1.csv')\n",
    "df = df.iloc[:,1:]\n",
    "df.head()"
   ]
  },
  {
   "cell_type": "code",
   "execution_count": 3,
   "metadata": {
    "ExecuteTime": {
     "end_time": "2019-08-27T12:56:19.633433Z",
     "start_time": "2019-08-27T12:56:19.620469Z"
    }
   },
   "outputs": [
    {
     "data": {
      "text/plain": [
       "Index(['date', 'year', 'quarter', 'month', 'weekday', 'day', 'district',\n",
       "       'p10_most_freq_day', 'p10_mean_day', 'p10_25per', 'p10_median_day',\n",
       "       'p10_75per', 'p25_most_freq_day', 'p25_mean_day', 'p25_25per',\n",
       "       'p25_median_day', 'p25_75per', 'humi_mean_day', 'humi_median_day',\n",
       "       'humi_25per', 'humi_75per', 'temp_mean_day', 'temp_median_day',\n",
       "       'temp_25per', 'temp_75per', 'noise_mean_day', 'noise_median_day',\n",
       "       'dis_index_most_freq2', 'MAN_0004', 'MAN_0509', 'MAN_1014', 'MAN_1519',\n",
       "       'MAN_2024', 'MAN_2529', 'MAN_3034', 'MAN_3539', 'MAN_4044', 'MAN_4549',\n",
       "       'MAN_5054', 'MAN_5559', 'MAN_6064', 'MAN_6569', 'MAN_70U', 'WMAN_0004',\n",
       "       'WMAN_0509', 'WMAN_1014', 'WMAN_1519', 'WMAN_2024', 'WMAN_2529',\n",
       "       'WMAN_3034', 'WMAN_3539', 'WMAN_4044', 'WMAN_4549', 'WMAN_5054',\n",
       "       'WMAN_5559', 'WMAN_6064', 'WMAN_6569', 'WMAN_70U', 'SGNG_NM', 'values',\n",
       "       'LENGTH', 'AREA', '10_P', '20_P', '30_P', '40_P', '50_P', '60_P',\n",
       "       '70_P', '80_P', 'AMT_IND_10', 'AMT_IND_20', 'AMT_IND_30', 'AMT_IND_40',\n",
       "       'AMT_IND_50', 'AMT_IND_60', 'AMT_IND_70', 'AMT_IND_80', 'tp_method1',\n",
       "       'cri', 'gs_num', 'min_gs', 'max_gs', 'median_gs', 'gsindex1'],\n",
       "      dtype='object')"
      ]
     },
     "execution_count": 3,
     "metadata": {},
     "output_type": "execute_result"
    }
   ],
   "source": [
    "df.columns"
   ]
  },
  {
   "cell_type": "markdown",
   "metadata": {},
   "source": [
    "# New way to merge"
   ]
  },
  {
   "cell_type": "code",
   "execution_count": 4,
   "metadata": {
    "ExecuteTime": {
     "end_time": "2019-08-27T12:56:19.699260Z",
     "start_time": "2019-08-27T12:56:19.637423Z"
    }
   },
   "outputs": [
    {
     "data": {
      "text/html": [
       "<div>\n",
       "<style scoped>\n",
       "    .dataframe tbody tr th:only-of-type {\n",
       "        vertical-align: middle;\n",
       "    }\n",
       "\n",
       "    .dataframe tbody tr th {\n",
       "        vertical-align: top;\n",
       "    }\n",
       "\n",
       "    .dataframe thead th {\n",
       "        text-align: right;\n",
       "    }\n",
       "</style>\n",
       "<table border=\"1\" class=\"dataframe\">\n",
       "  <thead>\n",
       "    <tr style=\"text-align: right;\">\n",
       "      <th></th>\n",
       "      <th>STD_YYYY</th>\n",
       "      <th>HDONG_CD</th>\n",
       "      <th>HDONG_NM</th>\n",
       "      <th>SIDO_CD</th>\n",
       "      <th>SIDO_NM</th>\n",
       "      <th>SGNG_CD</th>\n",
       "      <th>SGNG_NM</th>\n",
       "      <th>AREA</th>\n",
       "      <th>LENGTH</th>\n",
       "      <th>X_COORD</th>\n",
       "      <th>Y_COORD</th>\n",
       "      <th>geometry</th>\n",
       "    </tr>\n",
       "  </thead>\n",
       "  <tbody>\n",
       "    <tr>\n",
       "      <th>0</th>\n",
       "      <td>2019</td>\n",
       "      <td>1111051500</td>\n",
       "      <td>청운효자동</td>\n",
       "      <td>11</td>\n",
       "      <td>서울특별시</td>\n",
       "      <td>11110</td>\n",
       "      <td>종로구</td>\n",
       "      <td>2573175.62</td>\n",
       "      <td>7975.05</td>\n",
       "      <td>126.972694</td>\n",
       "      <td>37.581306</td>\n",
       "      <td>POINT (126.972694 37.581306)</td>\n",
       "    </tr>\n",
       "    <tr>\n",
       "      <th>1</th>\n",
       "      <td>2019</td>\n",
       "      <td>1111053000</td>\n",
       "      <td>사직동</td>\n",
       "      <td>11</td>\n",
       "      <td>서울특별시</td>\n",
       "      <td>11110</td>\n",
       "      <td>종로구</td>\n",
       "      <td>1128161.02</td>\n",
       "      <td>5498.40</td>\n",
       "      <td>126.970919</td>\n",
       "      <td>37.573408</td>\n",
       "      <td>POINT (126.9709195 37.573408)</td>\n",
       "    </tr>\n",
       "    <tr>\n",
       "      <th>2</th>\n",
       "      <td>2019</td>\n",
       "      <td>1111054000</td>\n",
       "      <td>삼청동</td>\n",
       "      <td>11</td>\n",
       "      <td>서울특별시</td>\n",
       "      <td>11110</td>\n",
       "      <td>종로구</td>\n",
       "      <td>1478468.25</td>\n",
       "      <td>7377.76</td>\n",
       "      <td>126.984028</td>\n",
       "      <td>37.582083</td>\n",
       "      <td>POINT (126.984028 37.582083)</td>\n",
       "    </tr>\n",
       "    <tr>\n",
       "      <th>3</th>\n",
       "      <td>2019</td>\n",
       "      <td>1111055000</td>\n",
       "      <td>부암동</td>\n",
       "      <td>11</td>\n",
       "      <td>서울특별시</td>\n",
       "      <td>11110</td>\n",
       "      <td>종로구</td>\n",
       "      <td>2276588.99</td>\n",
       "      <td>8912.71</td>\n",
       "      <td>126.966500</td>\n",
       "      <td>37.589917</td>\n",
       "      <td>POINT (126.9665 37.589917)</td>\n",
       "    </tr>\n",
       "    <tr>\n",
       "      <th>4</th>\n",
       "      <td>2019</td>\n",
       "      <td>1111056000</td>\n",
       "      <td>평창동</td>\n",
       "      <td>11</td>\n",
       "      <td>서울특별시</td>\n",
       "      <td>11110</td>\n",
       "      <td>종로구</td>\n",
       "      <td>8951336.18</td>\n",
       "      <td>13312.43</td>\n",
       "      <td>126.968972</td>\n",
       "      <td>37.602583</td>\n",
       "      <td>POINT (126.968972 37.602583)</td>\n",
       "    </tr>\n",
       "  </tbody>\n",
       "</table>\n",
       "</div>"
      ],
      "text/plain": [
       "  STD_YYYY    HDONG_CD HDONG_NM SIDO_CD SIDO_NM SGNG_CD SGNG_NM        AREA  \\\n",
       "0     2019  1111051500    청운효자동      11   서울특별시   11110     종로구  2573175.62   \n",
       "1     2019  1111053000      사직동      11   서울특별시   11110     종로구  1128161.02   \n",
       "2     2019  1111054000      삼청동      11   서울특별시   11110     종로구  1478468.25   \n",
       "3     2019  1111055000      부암동      11   서울특별시   11110     종로구  2276588.99   \n",
       "4     2019  1111056000      평창동      11   서울특별시   11110     종로구  8951336.18   \n",
       "\n",
       "     LENGTH     X_COORD    Y_COORD                       geometry  \n",
       "0   7975.05  126.972694  37.581306   POINT (126.972694 37.581306)  \n",
       "1   5498.40  126.970919  37.573408  POINT (126.9709195 37.573408)  \n",
       "2   7377.76  126.984028  37.582083   POINT (126.984028 37.582083)  \n",
       "3   8912.71  126.966500  37.589917     POINT (126.9665 37.589917)  \n",
       "4  13312.43  126.968972  37.602583   POINT (126.968972 37.602583)  "
      ]
     },
     "execution_count": 4,
     "metadata": {},
     "output_type": "execute_result"
    }
   ],
   "source": [
    "gs_retail = pd.read_csv('가공데이터/GS편의점_종로노원구.csv')\n",
    "gs_retail = gs_retail.iloc[:,1:]\n",
    "\n",
    "gs_distance = pd.read_csv('가공데이터/gs_distance.csv')\n",
    "gs_distance = gs_distance.iloc[:,1:]\n",
    "\n",
    "ad = dbfread.DBF('Rawdata/유동인구데이터/행정동경계파일/종로_노원_행정동.dbf')\n",
    "ad = pd.DataFrame(iter(ad))\n",
    "\n",
    "ad['X_COORD'] = ad['X_COORD'].apply(float)\n",
    "ad['Y_COORD'] = ad['Y_COORD'].apply(float)\n",
    "\n",
    "g_info = [Point(i) for i in zip(ad['X_COORD'],ad['Y_COORD'])]\n",
    "\n",
    "geo_ad = gpd.GeoDataFrame(ad,\n",
    "                          crs = {'init' : 'epsg:4326'},\n",
    "                          geometry = g_info\n",
    "                         )\n",
    "geo_ad.head()"
   ]
  },
  {
   "cell_type": "markdown",
   "metadata": {},
   "source": [
    "## Load raw data(Transient population data) and data prerpocessing"
   ]
  },
  {
   "cell_type": "code",
   "execution_count": 5,
   "metadata": {
    "ExecuteTime": {
     "end_time": "2019-08-27T12:56:19.963552Z",
     "start_time": "2019-08-27T12:56:19.701255Z"
    }
   },
   "outputs": [],
   "source": [
    "tp = pd.read_csv('가공데이터/유동_edit1.csv')\n",
    "tp = tp.iloc[:,1:]"
   ]
  },
  {
   "cell_type": "code",
   "execution_count": 6,
   "metadata": {
    "ExecuteTime": {
     "end_time": "2019-08-27T12:56:19.976515Z",
     "start_time": "2019-08-27T12:56:19.965545Z"
    }
   },
   "outputs": [],
   "source": [
    "tp = tp.loc[:,['STD_YMD','HDONG_NM','MAN_0004', 'MAN_0509',\n",
    "       'MAN_1014', 'MAN_1519', 'MAN_2024', 'MAN_2529', 'MAN_3034', 'MAN_3539',\n",
    "       'MAN_4044', 'MAN_4549', 'MAN_5054', 'MAN_5559', 'MAN_6064', 'MAN_6569',\n",
    "       'MAN_70U', 'WMAN_0004', 'WMAN_0509', 'WMAN_1014', 'WMAN_1519',\n",
    "       'WMAN_2024', 'WMAN_2529', 'WMAN_3034', 'WMAN_3539', 'WMAN_4044',\n",
    "       'WMAN_4549', 'WMAN_5054', 'WMAN_5559', 'WMAN_6064', 'WMAN_6569',\n",
    "       'WMAN_70U']]"
   ]
  },
  {
   "cell_type": "code",
   "execution_count": 7,
   "metadata": {
    "ExecuteTime": {
     "end_time": "2019-08-27T12:56:19.985495Z",
     "start_time": "2019-08-27T12:56:19.978511Z"
    }
   },
   "outputs": [
    {
     "data": {
      "text/plain": [
       "Index(['STD_YMD', 'HDONG_NM', 'MAN_0004', 'MAN_0509', 'MAN_1014', 'MAN_1519',\n",
       "       'MAN_2024', 'MAN_2529', 'MAN_3034', 'MAN_3539', 'MAN_4044', 'MAN_4549',\n",
       "       'MAN_5054', 'MAN_5559', 'MAN_6064', 'MAN_6569', 'MAN_70U', 'WMAN_0004',\n",
       "       'WMAN_0509', 'WMAN_1014', 'WMAN_1519', 'WMAN_2024', 'WMAN_2529',\n",
       "       'WMAN_3034', 'WMAN_3539', 'WMAN_4044', 'WMAN_4549', 'WMAN_5054',\n",
       "       'WMAN_5559', 'WMAN_6064', 'WMAN_6569', 'WMAN_70U'],\n",
       "      dtype='object')"
      ]
     },
     "execution_count": 7,
     "metadata": {},
     "output_type": "execute_result"
    }
   ],
   "source": [
    "tp.columns"
   ]
  },
  {
   "cell_type": "code",
   "execution_count": 8,
   "metadata": {
    "ExecuteTime": {
     "end_time": "2019-08-27T12:56:20.006470Z",
     "start_time": "2019-08-27T12:56:19.989482Z"
    }
   },
   "outputs": [],
   "source": [
    "we = []\n",
    "we2 = []\n",
    "for j in range(2,len(tp.columns),1):\n",
    "    sh1 = tp.columns.str.split('_')[j][0]\n",
    "    sh2 = tp.columns.str.split('_')[j][1]\n",
    "    we.append(sh1)\n",
    "    we2.append(sh2)"
   ]
  },
  {
   "cell_type": "code",
   "execution_count": 9,
   "metadata": {
    "ExecuteTime": {
     "end_time": "2019-08-27T12:56:20.119137Z",
     "start_time": "2019-08-27T12:56:20.010425Z"
    }
   },
   "outputs": [],
   "source": [
    "we_new = we * (len(np.unique(tp['STD_YMD'])) * len(np.unique(tp['HDONG_NM'])))\n",
    "we2_new = we2 * (len(np.unique(tp['STD_YMD'])) * len(np.unique(tp['HDONG_NM'])))\n",
    "trans_pop = tp.iloc[:,2:].values.ravel()\n",
    "date = [a for i in tp['STD_YMD'] for a in [i] * len(we)]\n",
    "dong = [uy for j in tp['HDONG_NM'] for uy in [j] * len(we)]"
   ]
  },
  {
   "cell_type": "code",
   "execution_count": 10,
   "metadata": {
    "ExecuteTime": {
     "end_time": "2019-08-27T12:56:20.359526Z",
     "start_time": "2019-08-27T12:56:20.121133Z"
    }
   },
   "outputs": [],
   "source": [
    "new_tp = pd.DataFrame({'STD_YMD' : date, 'ADMD_NM' : dong, 'SEX_CD' : we_new, 'AGE_CD' : we2_new, 'trans_pop':trans_pop})"
   ]
  },
  {
   "cell_type": "code",
   "execution_count": 11,
   "metadata": {
    "ExecuteTime": {
     "end_time": "2019-08-27T12:56:20.373455Z",
     "start_time": "2019-08-27T12:56:20.360490Z"
    }
   },
   "outputs": [
    {
     "data": {
      "text/html": [
       "<div>\n",
       "<style scoped>\n",
       "    .dataframe tbody tr th:only-of-type {\n",
       "        vertical-align: middle;\n",
       "    }\n",
       "\n",
       "    .dataframe tbody tr th {\n",
       "        vertical-align: top;\n",
       "    }\n",
       "\n",
       "    .dataframe thead th {\n",
       "        text-align: right;\n",
       "    }\n",
       "</style>\n",
       "<table border=\"1\" class=\"dataframe\">\n",
       "  <thead>\n",
       "    <tr style=\"text-align: right;\">\n",
       "      <th></th>\n",
       "      <th>STD_YMD</th>\n",
       "      <th>ADMD_NM</th>\n",
       "      <th>SEX_CD</th>\n",
       "      <th>AGE_CD</th>\n",
       "      <th>trans_pop</th>\n",
       "    </tr>\n",
       "  </thead>\n",
       "  <tbody>\n",
       "    <tr>\n",
       "      <th>0</th>\n",
       "      <td>20180401</td>\n",
       "      <td>청운효자동</td>\n",
       "      <td>MAN</td>\n",
       "      <td>0004</td>\n",
       "      <td>0.05</td>\n",
       "    </tr>\n",
       "    <tr>\n",
       "      <th>1</th>\n",
       "      <td>20180401</td>\n",
       "      <td>청운효자동</td>\n",
       "      <td>MAN</td>\n",
       "      <td>0509</td>\n",
       "      <td>78.93</td>\n",
       "    </tr>\n",
       "    <tr>\n",
       "      <th>2</th>\n",
       "      <td>20180401</td>\n",
       "      <td>청운효자동</td>\n",
       "      <td>MAN</td>\n",
       "      <td>1014</td>\n",
       "      <td>403.26</td>\n",
       "    </tr>\n",
       "    <tr>\n",
       "      <th>3</th>\n",
       "      <td>20180401</td>\n",
       "      <td>청운효자동</td>\n",
       "      <td>MAN</td>\n",
       "      <td>1519</td>\n",
       "      <td>642.66</td>\n",
       "    </tr>\n",
       "    <tr>\n",
       "      <th>4</th>\n",
       "      <td>20180401</td>\n",
       "      <td>청운효자동</td>\n",
       "      <td>MAN</td>\n",
       "      <td>2024</td>\n",
       "      <td>984.24</td>\n",
       "    </tr>\n",
       "  </tbody>\n",
       "</table>\n",
       "</div>"
      ],
      "text/plain": [
       "    STD_YMD ADMD_NM SEX_CD AGE_CD  trans_pop\n",
       "0  20180401   청운효자동    MAN   0004       0.05\n",
       "1  20180401   청운효자동    MAN   0509      78.93\n",
       "2  20180401   청운효자동    MAN   1014     403.26\n",
       "3  20180401   청운효자동    MAN   1519     642.66\n",
       "4  20180401   청운효자동    MAN   2024     984.24"
      ]
     },
     "execution_count": 11,
     "metadata": {},
     "output_type": "execute_result"
    }
   ],
   "source": [
    "new_tp.head()"
   ]
  },
  {
   "cell_type": "code",
   "execution_count": 12,
   "metadata": {
    "ExecuteTime": {
     "end_time": "2019-08-27T12:56:20.424321Z",
     "start_time": "2019-08-27T12:56:20.376449Z"
    }
   },
   "outputs": [],
   "source": [
    "new_tp['SEX_CD'].replace({'MAN' : 'M','WMAN':'F'},inplace=True)"
   ]
  },
  {
   "cell_type": "code",
   "execution_count": 13,
   "metadata": {
    "ExecuteTime": {
     "end_time": "2019-08-27T12:56:20.622817Z",
     "start_time": "2019-08-27T12:56:20.427313Z"
    }
   },
   "outputs": [],
   "source": [
    "new_tp['AGE_CD'].replace({'0004':'20','0509' :'20','1014':'20','1519' :'20',\n",
    "                          '2024':'20','2529':'25',\n",
    "                          '3034':'30','3539':'35',\n",
    "                          '4044':'40','4549':'45',\n",
    "                          '5054':'50','5559':'55',\n",
    "                          '6064':'60','6569':'65','70U' : '65'},inplace=True)"
   ]
  },
  {
   "cell_type": "code",
   "execution_count": 14,
   "metadata": {
    "ExecuteTime": {
     "end_time": "2019-08-27T12:56:20.950913Z",
     "start_time": "2019-08-27T12:56:20.623821Z"
    }
   },
   "outputs": [
    {
     "data": {
      "text/html": [
       "<div>\n",
       "<style scoped>\n",
       "    .dataframe tbody tr th:only-of-type {\n",
       "        vertical-align: middle;\n",
       "    }\n",
       "\n",
       "    .dataframe tbody tr th {\n",
       "        vertical-align: top;\n",
       "    }\n",
       "\n",
       "    .dataframe thead th {\n",
       "        text-align: right;\n",
       "    }\n",
       "</style>\n",
       "<table border=\"1\" class=\"dataframe\">\n",
       "  <thead>\n",
       "    <tr style=\"text-align: right;\">\n",
       "      <th></th>\n",
       "      <th>STD_YMD</th>\n",
       "      <th>ADMD_NM</th>\n",
       "      <th>SEX_CD</th>\n",
       "      <th>AGE_CD</th>\n",
       "      <th>trans_pop</th>\n",
       "    </tr>\n",
       "  </thead>\n",
       "  <tbody>\n",
       "    <tr>\n",
       "      <th>0</th>\n",
       "      <td>20180401</td>\n",
       "      <td>가회동</td>\n",
       "      <td>F</td>\n",
       "      <td>20</td>\n",
       "      <td>1160.64</td>\n",
       "    </tr>\n",
       "    <tr>\n",
       "      <th>1</th>\n",
       "      <td>20180401</td>\n",
       "      <td>가회동</td>\n",
       "      <td>F</td>\n",
       "      <td>25</td>\n",
       "      <td>832.24</td>\n",
       "    </tr>\n",
       "    <tr>\n",
       "      <th>2</th>\n",
       "      <td>20180401</td>\n",
       "      <td>가회동</td>\n",
       "      <td>F</td>\n",
       "      <td>30</td>\n",
       "      <td>729.24</td>\n",
       "    </tr>\n",
       "    <tr>\n",
       "      <th>3</th>\n",
       "      <td>20180401</td>\n",
       "      <td>가회동</td>\n",
       "      <td>F</td>\n",
       "      <td>35</td>\n",
       "      <td>812.86</td>\n",
       "    </tr>\n",
       "    <tr>\n",
       "      <th>4</th>\n",
       "      <td>20180401</td>\n",
       "      <td>가회동</td>\n",
       "      <td>F</td>\n",
       "      <td>40</td>\n",
       "      <td>741.41</td>\n",
       "    </tr>\n",
       "  </tbody>\n",
       "</table>\n",
       "</div>"
      ],
      "text/plain": [
       "    STD_YMD ADMD_NM SEX_CD  AGE_CD  trans_pop\n",
       "0  20180401     가회동      F      20    1160.64\n",
       "1  20180401     가회동      F      25     832.24\n",
       "2  20180401     가회동      F      30     729.24\n",
       "3  20180401     가회동      F      35     812.86\n",
       "4  20180401     가회동      F      40     741.41"
      ]
     },
     "execution_count": 14,
     "metadata": {},
     "output_type": "execute_result"
    }
   ],
   "source": [
    "new_tp2 = new_tp.groupby(['STD_YMD','ADMD_NM','SEX_CD','AGE_CD'])['trans_pop'].sum().reset_index(level=[0,1,2,3])\n",
    "new_tp2['AGE_CD'] = new_tp2['AGE_CD'].astype('int64')\n",
    "new_tp2.head()"
   ]
  },
  {
   "cell_type": "code",
   "execution_count": 15,
   "metadata": {
    "ExecuteTime": {
     "end_time": "2019-08-27T12:56:22.815926Z",
     "start_time": "2019-08-27T12:56:20.953903Z"
    }
   },
   "outputs": [],
   "source": [
    "new_tp2.to_csv('가공데이터/유동_edit2.csv',encoding='utf-8')"
   ]
  },
  {
   "cell_type": "markdown",
   "metadata": {},
   "source": [
    "## Load raw data(Circulation data) and data prerpocessing"
   ]
  },
  {
   "cell_type": "code",
   "execution_count": 16,
   "metadata": {
    "ExecuteTime": {
     "end_time": "2019-08-27T12:56:22.946613Z",
     "start_time": "2019-08-27T12:56:22.817921Z"
    }
   },
   "outputs": [
    {
     "data": {
      "text/plain": [
       "Index(['time', 'ADMD_NM', 'values', 'year', 'month', 'day', 'weekday',\n",
       "       'SGNG_NM', 'SGNG_CD', 'HDONG_CD', 'LENGTH', 'AREA', '10_P', '20_P',\n",
       "       '30_P', '40_P', '50_P', '60_P', '70_P', '80_P', 'AMT_IND_10',\n",
       "       'AMT_IND_20', 'AMT_IND_30', 'AMT_IND_40', 'AMT_IND_50', 'AMT_IND_60',\n",
       "       'AMT_IND_70', 'AMT_IND_80'],\n",
       "      dtype='object')"
      ]
     },
     "execution_count": 16,
     "metadata": {},
     "output_type": "execute_result"
    }
   ],
   "source": [
    "cir = pd.read_csv('가공데이터/유통_edit1.csv')\n",
    "cir.columns"
   ]
  },
  {
   "cell_type": "code",
   "execution_count": 17,
   "metadata": {
    "ExecuteTime": {
     "end_time": "2019-08-27T12:56:22.978493Z",
     "start_time": "2019-08-27T12:56:22.948573Z"
    }
   },
   "outputs": [
    {
     "data": {
      "text/html": [
       "<div>\n",
       "<style scoped>\n",
       "    .dataframe tbody tr th:only-of-type {\n",
       "        vertical-align: middle;\n",
       "    }\n",
       "\n",
       "    .dataframe tbody tr th {\n",
       "        vertical-align: top;\n",
       "    }\n",
       "\n",
       "    .dataframe thead th {\n",
       "        text-align: right;\n",
       "    }\n",
       "</style>\n",
       "<table border=\"1\" class=\"dataframe\">\n",
       "  <thead>\n",
       "    <tr style=\"text-align: right;\">\n",
       "      <th></th>\n",
       "      <th>time</th>\n",
       "      <th>ADMD_NM</th>\n",
       "      <th>values</th>\n",
       "      <th>10_P</th>\n",
       "      <th>20_P</th>\n",
       "      <th>30_P</th>\n",
       "      <th>40_P</th>\n",
       "      <th>50_P</th>\n",
       "      <th>60_P</th>\n",
       "      <th>70_P</th>\n",
       "      <th>80_P</th>\n",
       "    </tr>\n",
       "  </thead>\n",
       "  <tbody>\n",
       "    <tr>\n",
       "      <th>0</th>\n",
       "      <td>2018-04-01</td>\n",
       "      <td>가회동</td>\n",
       "      <td>0.741018</td>\n",
       "      <td>0.238186</td>\n",
       "      <td>0.210444</td>\n",
       "      <td>0.412769</td>\n",
       "      <td>0.016912</td>\n",
       "      <td>0.090471</td>\n",
       "      <td>0.009637</td>\n",
       "      <td>0.020592</td>\n",
       "      <td>0.000988</td>\n",
       "    </tr>\n",
       "    <tr>\n",
       "      <th>1</th>\n",
       "      <td>2018-04-02</td>\n",
       "      <td>가회동</td>\n",
       "      <td>0.855520</td>\n",
       "      <td>0.248125</td>\n",
       "      <td>0.214794</td>\n",
       "      <td>0.409670</td>\n",
       "      <td>0.025352</td>\n",
       "      <td>0.086298</td>\n",
       "      <td>0.002281</td>\n",
       "      <td>0.002333</td>\n",
       "      <td>0.011148</td>\n",
       "    </tr>\n",
       "    <tr>\n",
       "      <th>2</th>\n",
       "      <td>2018-04-03</td>\n",
       "      <td>가회동</td>\n",
       "      <td>0.981773</td>\n",
       "      <td>0.261384</td>\n",
       "      <td>0.204568</td>\n",
       "      <td>0.347117</td>\n",
       "      <td>0.068550</td>\n",
       "      <td>0.098328</td>\n",
       "      <td>0.005268</td>\n",
       "      <td>0.007419</td>\n",
       "      <td>0.007365</td>\n",
       "    </tr>\n",
       "    <tr>\n",
       "      <th>3</th>\n",
       "      <td>2018-04-04</td>\n",
       "      <td>가회동</td>\n",
       "      <td>1.059795</td>\n",
       "      <td>0.230096</td>\n",
       "      <td>0.211954</td>\n",
       "      <td>0.316462</td>\n",
       "      <td>0.043199</td>\n",
       "      <td>0.096238</td>\n",
       "      <td>0.012795</td>\n",
       "      <td>0.086221</td>\n",
       "      <td>0.003035</td>\n",
       "    </tr>\n",
       "    <tr>\n",
       "      <th>4</th>\n",
       "      <td>2018-04-05</td>\n",
       "      <td>가회동</td>\n",
       "      <td>0.855990</td>\n",
       "      <td>0.261243</td>\n",
       "      <td>0.136507</td>\n",
       "      <td>0.275644</td>\n",
       "      <td>0.032804</td>\n",
       "      <td>0.223634</td>\n",
       "      <td>0.021238</td>\n",
       "      <td>0.035445</td>\n",
       "      <td>0.013484</td>\n",
       "    </tr>\n",
       "  </tbody>\n",
       "</table>\n",
       "</div>"
      ],
      "text/plain": [
       "         time ADMD_NM    values      10_P      20_P      30_P      40_P  \\\n",
       "0  2018-04-01     가회동  0.741018  0.238186  0.210444  0.412769  0.016912   \n",
       "1  2018-04-02     가회동  0.855520  0.248125  0.214794  0.409670  0.025352   \n",
       "2  2018-04-03     가회동  0.981773  0.261384  0.204568  0.347117  0.068550   \n",
       "3  2018-04-04     가회동  1.059795  0.230096  0.211954  0.316462  0.043199   \n",
       "4  2018-04-05     가회동  0.855990  0.261243  0.136507  0.275644  0.032804   \n",
       "\n",
       "       50_P      60_P      70_P      80_P  \n",
       "0  0.090471  0.009637  0.020592  0.000988  \n",
       "1  0.086298  0.002281  0.002333  0.011148  \n",
       "2  0.098328  0.005268  0.007419  0.007365  \n",
       "3  0.096238  0.012795  0.086221  0.003035  \n",
       "4  0.223634  0.021238  0.035445  0.013484  "
      ]
     },
     "execution_count": 17,
     "metadata": {},
     "output_type": "execute_result"
    }
   ],
   "source": [
    "cir2 = cir.iloc[:,:-8]\n",
    "cir2 = cir2.loc[:,['time', 'ADMD_NM', 'values',\n",
    "                   '10_P', '20_P','30_P', '40_P', '50_P', '60_P', '70_P', '80_P']]\n",
    "cir2.head()"
   ]
  },
  {
   "cell_type": "code",
   "execution_count": 18,
   "metadata": {
    "ExecuteTime": {
     "end_time": "2019-08-27T12:56:22.990463Z",
     "start_time": "2019-08-27T12:56:22.982481Z"
    }
   },
   "outputs": [],
   "source": [
    "we = [cir2.columns.str.split('_')[j][0] + '_cate' for j in range(3,len(cir2.columns),1)]"
   ]
  },
  {
   "cell_type": "code",
   "execution_count": 19,
   "metadata": {
    "ExecuteTime": {
     "end_time": "2019-08-27T12:56:23.065293Z",
     "start_time": "2019-08-27T12:56:22.993452Z"
    }
   },
   "outputs": [],
   "source": [
    "category = [cir2.columns.str.split('_')[j][0] + '_cate' for j in range(3,len(cir2.columns),1)] * len(np.unique(cir2['ADMD_NM'])) * len(np.unique(cir2['time']))\n",
    "date = [a for i in cir2['time'] for a in [i] * len(we)]\n",
    "dong = [u for j in cir2['ADMD_NM'] for u in [j] * len(we)]\n",
    "dong_index = [z for j in cir2['values'] for z in [j]*len(we)]\n",
    "values = cir2.iloc[:,3:].values.ravel()"
   ]
  },
  {
   "cell_type": "code",
   "execution_count": 20,
   "metadata": {
    "ExecuteTime": {
     "end_time": "2019-08-27T12:56:23.110140Z",
     "start_time": "2019-08-27T12:56:23.066298Z"
    }
   },
   "outputs": [],
   "source": [
    "cir_final = pd.DataFrame({'STD_YMD':date,\n",
    "                          'ADMD_NM': dong, \n",
    "                          'values':dong_index,\n",
    "                           'category' : category,\n",
    "                          'category_values' : values})"
   ]
  },
  {
   "cell_type": "code",
   "execution_count": 21,
   "metadata": {
    "ExecuteTime": {
     "end_time": "2019-08-27T12:56:23.128093Z",
     "start_time": "2019-08-27T12:56:23.113133Z"
    }
   },
   "outputs": [
    {
     "data": {
      "text/html": [
       "<div>\n",
       "<style scoped>\n",
       "    .dataframe tbody tr th:only-of-type {\n",
       "        vertical-align: middle;\n",
       "    }\n",
       "\n",
       "    .dataframe tbody tr th {\n",
       "        vertical-align: top;\n",
       "    }\n",
       "\n",
       "    .dataframe thead th {\n",
       "        text-align: right;\n",
       "    }\n",
       "</style>\n",
       "<table border=\"1\" class=\"dataframe\">\n",
       "  <thead>\n",
       "    <tr style=\"text-align: right;\">\n",
       "      <th></th>\n",
       "      <th>STD_YMD</th>\n",
       "      <th>ADMD_NM</th>\n",
       "      <th>values</th>\n",
       "      <th>category</th>\n",
       "      <th>category_values</th>\n",
       "    </tr>\n",
       "  </thead>\n",
       "  <tbody>\n",
       "    <tr>\n",
       "      <th>0</th>\n",
       "      <td>2018-04-01</td>\n",
       "      <td>가회동</td>\n",
       "      <td>0.741018</td>\n",
       "      <td>10_cate</td>\n",
       "      <td>0.238186</td>\n",
       "    </tr>\n",
       "    <tr>\n",
       "      <th>1</th>\n",
       "      <td>2018-04-01</td>\n",
       "      <td>가회동</td>\n",
       "      <td>0.741018</td>\n",
       "      <td>20_cate</td>\n",
       "      <td>0.210444</td>\n",
       "    </tr>\n",
       "    <tr>\n",
       "      <th>2</th>\n",
       "      <td>2018-04-01</td>\n",
       "      <td>가회동</td>\n",
       "      <td>0.741018</td>\n",
       "      <td>30_cate</td>\n",
       "      <td>0.412769</td>\n",
       "    </tr>\n",
       "    <tr>\n",
       "      <th>3</th>\n",
       "      <td>2018-04-01</td>\n",
       "      <td>가회동</td>\n",
       "      <td>0.741018</td>\n",
       "      <td>40_cate</td>\n",
       "      <td>0.016912</td>\n",
       "    </tr>\n",
       "    <tr>\n",
       "      <th>4</th>\n",
       "      <td>2018-04-01</td>\n",
       "      <td>가회동</td>\n",
       "      <td>0.741018</td>\n",
       "      <td>50_cate</td>\n",
       "      <td>0.090471</td>\n",
       "    </tr>\n",
       "  </tbody>\n",
       "</table>\n",
       "</div>"
      ],
      "text/plain": [
       "      STD_YMD ADMD_NM    values category  category_values\n",
       "0  2018-04-01     가회동  0.741018  10_cate         0.238186\n",
       "1  2018-04-01     가회동  0.741018  20_cate         0.210444\n",
       "2  2018-04-01     가회동  0.741018  30_cate         0.412769\n",
       "3  2018-04-01     가회동  0.741018  40_cate         0.016912\n",
       "4  2018-04-01     가회동  0.741018  50_cate         0.090471"
      ]
     },
     "execution_count": 21,
     "metadata": {},
     "output_type": "execute_result"
    }
   ],
   "source": [
    "cir_final.head()"
   ]
  },
  {
   "cell_type": "code",
   "execution_count": 22,
   "metadata": {
    "ExecuteTime": {
     "end_time": "2019-08-27T12:56:23.168983Z",
     "start_time": "2019-08-27T12:56:23.131117Z"
    }
   },
   "outputs": [
    {
     "data": {
      "text/html": [
       "<div>\n",
       "<style scoped>\n",
       "    .dataframe tbody tr th:only-of-type {\n",
       "        vertical-align: middle;\n",
       "    }\n",
       "\n",
       "    .dataframe tbody tr th {\n",
       "        vertical-align: top;\n",
       "    }\n",
       "\n",
       "    .dataframe thead th {\n",
       "        text-align: right;\n",
       "    }\n",
       "</style>\n",
       "<table border=\"1\" class=\"dataframe\">\n",
       "  <thead>\n",
       "    <tr style=\"text-align: right;\">\n",
       "      <th></th>\n",
       "      <th>STD_YMD</th>\n",
       "      <th>ADMD_NM</th>\n",
       "      <th>values</th>\n",
       "      <th>category</th>\n",
       "      <th>category_values</th>\n",
       "      <th>values_ratio</th>\n",
       "    </tr>\n",
       "  </thead>\n",
       "  <tbody>\n",
       "    <tr>\n",
       "      <th>0</th>\n",
       "      <td>2018-04-01</td>\n",
       "      <td>가회동</td>\n",
       "      <td>0.741018</td>\n",
       "      <td>10_cate</td>\n",
       "      <td>0.238186</td>\n",
       "      <td>0.176500</td>\n",
       "    </tr>\n",
       "    <tr>\n",
       "      <th>1</th>\n",
       "      <td>2018-04-01</td>\n",
       "      <td>가회동</td>\n",
       "      <td>0.741018</td>\n",
       "      <td>20_cate</td>\n",
       "      <td>0.210444</td>\n",
       "      <td>0.155943</td>\n",
       "    </tr>\n",
       "    <tr>\n",
       "      <th>2</th>\n",
       "      <td>2018-04-01</td>\n",
       "      <td>가회동</td>\n",
       "      <td>0.741018</td>\n",
       "      <td>30_cate</td>\n",
       "      <td>0.412769</td>\n",
       "      <td>0.305870</td>\n",
       "    </tr>\n",
       "    <tr>\n",
       "      <th>3</th>\n",
       "      <td>2018-04-01</td>\n",
       "      <td>가회동</td>\n",
       "      <td>0.741018</td>\n",
       "      <td>40_cate</td>\n",
       "      <td>0.016912</td>\n",
       "      <td>0.012532</td>\n",
       "    </tr>\n",
       "    <tr>\n",
       "      <th>4</th>\n",
       "      <td>2018-04-01</td>\n",
       "      <td>가회동</td>\n",
       "      <td>0.741018</td>\n",
       "      <td>50_cate</td>\n",
       "      <td>0.090471</td>\n",
       "      <td>0.067041</td>\n",
       "    </tr>\n",
       "  </tbody>\n",
       "</table>\n",
       "</div>"
      ],
      "text/plain": [
       "      STD_YMD ADMD_NM    values category  category_values  values_ratio\n",
       "0  2018-04-01     가회동  0.741018  10_cate         0.238186      0.176500\n",
       "1  2018-04-01     가회동  0.741018  20_cate         0.210444      0.155943\n",
       "2  2018-04-01     가회동  0.741018  30_cate         0.412769      0.305870\n",
       "3  2018-04-01     가회동  0.741018  40_cate         0.016912      0.012532\n",
       "4  2018-04-01     가회동  0.741018  50_cate         0.090471      0.067041"
      ]
     },
     "execution_count": 22,
     "metadata": {},
     "output_type": "execute_result"
    }
   ],
   "source": [
    "cir_final['values_ratio'] = cir_final['values'] * cir_final['category_values']\n",
    "cir_final.head()"
   ]
  },
  {
   "cell_type": "code",
   "execution_count": 23,
   "metadata": {
    "ExecuteTime": {
     "end_time": "2019-08-27T12:56:23.278690Z",
     "start_time": "2019-08-27T12:56:23.175998Z"
    }
   },
   "outputs": [],
   "source": [
    "cir_final['STD_YMD'] = pd.to_datetime(cir_final['STD_YMD'],format='%Y-%m-%d')"
   ]
  },
  {
   "cell_type": "markdown",
   "metadata": {},
   "source": [
    "##  Merge {유통 + 소상공인(GS)} data"
   ]
  },
  {
   "cell_type": "markdown",
   "metadata": {},
   "source": [
    "GS상점수 Mapping method: \n",
    "- 2018/03 : 2018/03,04,05\n",
    "- 2018/06 : 2018/06,07,08\n",
    "- 2018/09 : 2018/09,10,11\n",
    "- 2018/12 : 2018/12, 2019/01,02\n",
    "- 2019/03 : 2019/03,04"
   ]
  },
  {
   "cell_type": "code",
   "execution_count": 24,
   "metadata": {
    "ExecuteTime": {
     "end_time": "2019-08-27T12:56:23.343562Z",
     "start_time": "2019-08-27T12:56:23.281683Z"
    }
   },
   "outputs": [],
   "source": [
    "# sy = list()\n",
    "# for i in np.unique(tp_cir['ADMD_NM']):\n",
    "#     pe1 = tp_cir[tp_cir['ADMD_NM'] == i]\n",
    "#     cr1 = gs_num3[gs_num3['행정동명'] == i]\n",
    "    \n",
    "#     if (pe1['date']<'2018-06-01'):\n",
    "#         an1 = [cri.iloc[:,-1][0]] * pe1[pe1['date']<'2018-06-01'].shape[1]\n",
    "#         sy.extend(an1)\n",
    "#     elif ((pe1['date']>='2018-06-01')&(pe1['date']<'2018-09-01')):\n",
    "#         an2 = [cri.iloc[:,-1][1]] * pe1[(pe1['date']>='2018-06-01')&(pe1['date']<'2018-09-01')].shape[1]\n",
    "#         sy.extend(an2)\n",
    "#     elif ((pe1['date']>='2018-09-01')&(pe1['date']<'2018-12-01')):\n",
    "#         an3 = [cri.iloc[:,-1][2]] * pe1[(pe1['date']>='2018-09-01')&(pe1['date']<'2018-12-01')].shape[1]\n",
    "#         sy.extend(an3)\n",
    "#     elif ((pe1['date']>='2018-12-01')&(pe1['date']<'2019-03-01')):\n",
    "#         an4 = [cri.iloc[:,-1][3]] * pe1[(pe1['date']>='2018-09-01')&(pe1['date']<'2018-12-01')].shape[1]\n",
    "#         sy.extend(an4)\n",
    "#     else:\n",
    "#         an5 = [cri.iloc[:,-1][4]] * pe1[(pe1['date']>='2018-03-01')].shape[1]\n",
    "#         sy.extend(an5)\n",
    "\n",
    "\n",
    "a = '2018-03-31'\n",
    "b = '2018-06-30'\n",
    "c = '2018-09-30'\n",
    "d = '2018-12-31'\n",
    "e = '2019-03-31'\n",
    "\n",
    "cir_final['time']=1\n",
    "cir_final.loc[cir_final['STD_YMD'] < '2018-06-01','time'] = a \n",
    "cir_final.loc[((cir_final['STD_YMD']>='2018-06-01')&(cir_final['STD_YMD']<'2018-09-01')),'time']=b\n",
    "cir_final.loc[((cir_final['STD_YMD']>='2018-09-01')&(cir_final['STD_YMD']<'2018-12-01')),'time'] =c\n",
    "cir_final.loc[((cir_final['STD_YMD']>='2018-12-01')&(cir_final['STD_YMD']<'2019-03-01')),'time'] =d\n",
    "cir_final.loc[cir_final['STD_YMD'] >= '2019-03-01','time'] = e   "
   ]
  },
  {
   "cell_type": "code",
   "execution_count": 25,
   "metadata": {
    "ExecuteTime": {
     "end_time": "2019-08-27T12:56:23.364462Z",
     "start_time": "2019-08-27T12:56:23.346511Z"
    }
   },
   "outputs": [
    {
     "data": {
      "text/html": [
       "<div>\n",
       "<style scoped>\n",
       "    .dataframe tbody tr th:only-of-type {\n",
       "        vertical-align: middle;\n",
       "    }\n",
       "\n",
       "    .dataframe tbody tr th {\n",
       "        vertical-align: top;\n",
       "    }\n",
       "\n",
       "    .dataframe thead th {\n",
       "        text-align: right;\n",
       "    }\n",
       "</style>\n",
       "<table border=\"1\" class=\"dataframe\">\n",
       "  <thead>\n",
       "    <tr style=\"text-align: right;\">\n",
       "      <th></th>\n",
       "      <th>STD_YMD</th>\n",
       "      <th>ADMD_NM</th>\n",
       "      <th>values</th>\n",
       "      <th>category</th>\n",
       "      <th>category_values</th>\n",
       "      <th>values_ratio</th>\n",
       "      <th>time</th>\n",
       "    </tr>\n",
       "  </thead>\n",
       "  <tbody>\n",
       "    <tr>\n",
       "      <th>0</th>\n",
       "      <td>2018-04-01</td>\n",
       "      <td>가회동</td>\n",
       "      <td>0.741018</td>\n",
       "      <td>10_cate</td>\n",
       "      <td>0.238186</td>\n",
       "      <td>0.176500</td>\n",
       "      <td>2018-03-31</td>\n",
       "    </tr>\n",
       "    <tr>\n",
       "      <th>1</th>\n",
       "      <td>2018-04-01</td>\n",
       "      <td>가회동</td>\n",
       "      <td>0.741018</td>\n",
       "      <td>20_cate</td>\n",
       "      <td>0.210444</td>\n",
       "      <td>0.155943</td>\n",
       "      <td>2018-03-31</td>\n",
       "    </tr>\n",
       "    <tr>\n",
       "      <th>2</th>\n",
       "      <td>2018-04-01</td>\n",
       "      <td>가회동</td>\n",
       "      <td>0.741018</td>\n",
       "      <td>30_cate</td>\n",
       "      <td>0.412769</td>\n",
       "      <td>0.305870</td>\n",
       "      <td>2018-03-31</td>\n",
       "    </tr>\n",
       "    <tr>\n",
       "      <th>3</th>\n",
       "      <td>2018-04-01</td>\n",
       "      <td>가회동</td>\n",
       "      <td>0.741018</td>\n",
       "      <td>40_cate</td>\n",
       "      <td>0.016912</td>\n",
       "      <td>0.012532</td>\n",
       "      <td>2018-03-31</td>\n",
       "    </tr>\n",
       "    <tr>\n",
       "      <th>4</th>\n",
       "      <td>2018-04-01</td>\n",
       "      <td>가회동</td>\n",
       "      <td>0.741018</td>\n",
       "      <td>50_cate</td>\n",
       "      <td>0.090471</td>\n",
       "      <td>0.067041</td>\n",
       "      <td>2018-03-31</td>\n",
       "    </tr>\n",
       "  </tbody>\n",
       "</table>\n",
       "</div>"
      ],
      "text/plain": [
       "     STD_YMD ADMD_NM    values category  category_values  values_ratio  \\\n",
       "0 2018-04-01     가회동  0.741018  10_cate         0.238186      0.176500   \n",
       "1 2018-04-01     가회동  0.741018  20_cate         0.210444      0.155943   \n",
       "2 2018-04-01     가회동  0.741018  30_cate         0.412769      0.305870   \n",
       "3 2018-04-01     가회동  0.741018  40_cate         0.016912      0.012532   \n",
       "4 2018-04-01     가회동  0.741018  50_cate         0.090471      0.067041   \n",
       "\n",
       "         time  \n",
       "0  2018-03-31  \n",
       "1  2018-03-31  \n",
       "2  2018-03-31  \n",
       "3  2018-03-31  \n",
       "4  2018-03-31  "
      ]
     },
     "execution_count": 25,
     "metadata": {},
     "output_type": "execute_result"
    }
   ],
   "source": [
    "cir_final.head()"
   ]
  },
  {
   "cell_type": "code",
   "execution_count": 26,
   "metadata": {
    "ExecuteTime": {
     "end_time": "2019-08-27T12:56:23.390394Z",
     "start_time": "2019-08-27T12:56:23.367488Z"
    },
    "scrolled": true
   },
   "outputs": [
    {
     "data": {
      "text/html": [
       "<div>\n",
       "<style scoped>\n",
       "    .dataframe tbody tr th:only-of-type {\n",
       "        vertical-align: middle;\n",
       "    }\n",
       "\n",
       "    .dataframe tbody tr th {\n",
       "        vertical-align: top;\n",
       "    }\n",
       "\n",
       "    .dataframe thead th {\n",
       "        text-align: right;\n",
       "    }\n",
       "</style>\n",
       "<table border=\"1\" class=\"dataframe\">\n",
       "  <thead>\n",
       "    <tr style=\"text-align: right;\">\n",
       "      <th></th>\n",
       "      <th>상호명</th>\n",
       "      <th>지점명</th>\n",
       "      <th>상권업종대분류명</th>\n",
       "      <th>상권업종중분류명</th>\n",
       "      <th>상권업종소분류명</th>\n",
       "      <th>표준산업분류명</th>\n",
       "      <th>시도명</th>\n",
       "      <th>시군구명</th>\n",
       "      <th>행정동명</th>\n",
       "      <th>법정동명</th>\n",
       "      <th>지번주소</th>\n",
       "      <th>건물명</th>\n",
       "      <th>도로명주소</th>\n",
       "      <th>경도</th>\n",
       "      <th>위도</th>\n",
       "      <th>time</th>\n",
       "    </tr>\n",
       "  </thead>\n",
       "  <tbody>\n",
       "    <tr>\n",
       "      <th>0</th>\n",
       "      <td>GS25광운문화관</td>\n",
       "      <td>NaN</td>\n",
       "      <td>소매</td>\n",
       "      <td>종합소매점</td>\n",
       "      <td>편의점</td>\n",
       "      <td>체인화 편의점</td>\n",
       "      <td>서울특별시</td>\n",
       "      <td>노원구</td>\n",
       "      <td>월계1동</td>\n",
       "      <td>월계동</td>\n",
       "      <td>서울특별시 노원구 월계동 466</td>\n",
       "      <td>광운대학교</td>\n",
       "      <td>서울특별시 노원구 광운로 21</td>\n",
       "      <td>127.057576</td>\n",
       "      <td>37.619816</td>\n",
       "      <td>2018-03-31</td>\n",
       "    </tr>\n",
       "    <tr>\n",
       "      <th>1</th>\n",
       "      <td>GS25</td>\n",
       "      <td>명륜스타점</td>\n",
       "      <td>소매</td>\n",
       "      <td>종합소매점</td>\n",
       "      <td>편의점</td>\n",
       "      <td>체인화 편의점</td>\n",
       "      <td>서울특별시</td>\n",
       "      <td>종로구</td>\n",
       "      <td>혜화동</td>\n",
       "      <td>명륜4가</td>\n",
       "      <td>서울특별시 종로구 명륜4가 113-1</td>\n",
       "      <td>대학로스타시스빌딩</td>\n",
       "      <td>서울특별시 종로구 대학로11길 23</td>\n",
       "      <td>127.000401</td>\n",
       "      <td>37.582052</td>\n",
       "      <td>2018-03-31</td>\n",
       "    </tr>\n",
       "    <tr>\n",
       "      <th>2</th>\n",
       "      <td>GS25석계그랑빌</td>\n",
       "      <td>NaN</td>\n",
       "      <td>소매</td>\n",
       "      <td>종합소매점</td>\n",
       "      <td>편의점</td>\n",
       "      <td>체인화 편의점</td>\n",
       "      <td>서울특별시</td>\n",
       "      <td>노원구</td>\n",
       "      <td>월계3동</td>\n",
       "      <td>월계동</td>\n",
       "      <td>서울특별시 노원구 월계동 18</td>\n",
       "      <td>그랑빌아파트</td>\n",
       "      <td>서울특별시 노원구 마들로 31</td>\n",
       "      <td>127.067060</td>\n",
       "      <td>37.618720</td>\n",
       "      <td>2018-03-31</td>\n",
       "    </tr>\n",
       "    <tr>\n",
       "      <th>3</th>\n",
       "      <td>GS노원중앙점</td>\n",
       "      <td>노원중앙점</td>\n",
       "      <td>소매</td>\n",
       "      <td>종합소매점</td>\n",
       "      <td>편의점</td>\n",
       "      <td>체인화 편의점</td>\n",
       "      <td>서울특별시</td>\n",
       "      <td>노원구</td>\n",
       "      <td>상계6.7동</td>\n",
       "      <td>상계동</td>\n",
       "      <td>서울특별시 노원구 상계동 725-4</td>\n",
       "      <td>영보빌딩</td>\n",
       "      <td>서울특별시 노원구 동일로218길 41</td>\n",
       "      <td>127.063160</td>\n",
       "      <td>37.654172</td>\n",
       "      <td>2018-03-31</td>\n",
       "    </tr>\n",
       "    <tr>\n",
       "      <th>4</th>\n",
       "      <td>지에스25상명사랑</td>\n",
       "      <td>NaN</td>\n",
       "      <td>소매</td>\n",
       "      <td>종합소매점</td>\n",
       "      <td>편의점</td>\n",
       "      <td>체인화 편의점</td>\n",
       "      <td>서울특별시</td>\n",
       "      <td>종로구</td>\n",
       "      <td>부암동</td>\n",
       "      <td>홍지동</td>\n",
       "      <td>서울특별시 종로구 홍지동 94-2</td>\n",
       "      <td>NaN</td>\n",
       "      <td>서울특별시 종로구 세검정로 230</td>\n",
       "      <td>126.958506</td>\n",
       "      <td>37.600143</td>\n",
       "      <td>2018-03-31</td>\n",
       "    </tr>\n",
       "  </tbody>\n",
       "</table>\n",
       "</div>"
      ],
      "text/plain": [
       "         상호명    지점명 상권업종대분류명 상권업종중분류명 상권업종소분류명  표준산업분류명    시도명 시군구명    행정동명  \\\n",
       "0  GS25광운문화관    NaN       소매    종합소매점      편의점  체인화 편의점  서울특별시  노원구    월계1동   \n",
       "1       GS25  명륜스타점       소매    종합소매점      편의점  체인화 편의점  서울특별시  종로구     혜화동   \n",
       "2  GS25석계그랑빌    NaN       소매    종합소매점      편의점  체인화 편의점  서울특별시  노원구    월계3동   \n",
       "3    GS노원중앙점  노원중앙점       소매    종합소매점      편의점  체인화 편의점  서울특별시  노원구  상계6.7동   \n",
       "4  지에스25상명사랑    NaN       소매    종합소매점      편의점  체인화 편의점  서울특별시  종로구     부암동   \n",
       "\n",
       "   법정동명                  지번주소        건물명                 도로명주소          경도  \\\n",
       "0   월계동     서울특별시 노원구 월계동 466      광운대학교      서울특별시 노원구 광운로 21  127.057576   \n",
       "1  명륜4가  서울특별시 종로구 명륜4가 113-1  대학로스타시스빌딩   서울특별시 종로구 대학로11길 23  127.000401   \n",
       "2   월계동      서울특별시 노원구 월계동 18     그랑빌아파트      서울특별시 노원구 마들로 31  127.067060   \n",
       "3   상계동   서울특별시 노원구 상계동 725-4       영보빌딩  서울특별시 노원구 동일로218길 41  127.063160   \n",
       "4   홍지동    서울특별시 종로구 홍지동 94-2        NaN    서울특별시 종로구 세검정로 230  126.958506   \n",
       "\n",
       "          위도        time  \n",
       "0  37.619816  2018-03-31  \n",
       "1  37.582052  2018-03-31  \n",
       "2  37.618720  2018-03-31  \n",
       "3  37.654172  2018-03-31  \n",
       "4  37.600143  2018-03-31  "
      ]
     },
     "execution_count": 26,
     "metadata": {},
     "output_type": "execute_result"
    }
   ],
   "source": [
    "gs_retail.head()"
   ]
  },
  {
   "cell_type": "code",
   "execution_count": 27,
   "metadata": {
    "ExecuteTime": {
     "end_time": "2019-08-27T12:56:23.403392Z",
     "start_time": "2019-08-27T12:56:23.393384Z"
    },
    "scrolled": true
   },
   "outputs": [],
   "source": [
    "gs_retail2 = gs_retail.groupby(['행정동명','time']).size().reset_index(level=[0,1])"
   ]
  },
  {
   "cell_type": "markdown",
   "metadata": {},
   "source": [
    "지수 개발을 위해 '2019-03-31'이전 시점의 관측치가 존재하지 않는 가회동의 GS 계열사 수를 1로 산정한다."
   ]
  },
  {
   "cell_type": "code",
   "execution_count": 28,
   "metadata": {
    "ExecuteTime": {
     "end_time": "2019-08-27T12:56:23.447273Z",
     "start_time": "2019-08-27T12:56:23.405351Z"
    },
    "scrolled": true
   },
   "outputs": [
    {
     "data": {
      "text/html": [
       "<div>\n",
       "<style scoped>\n",
       "    .dataframe tbody tr th:only-of-type {\n",
       "        vertical-align: middle;\n",
       "    }\n",
       "\n",
       "    .dataframe tbody tr th {\n",
       "        vertical-align: top;\n",
       "    }\n",
       "\n",
       "    .dataframe thead th {\n",
       "        text-align: right;\n",
       "    }\n",
       "</style>\n",
       "<table border=\"1\" class=\"dataframe\">\n",
       "  <thead>\n",
       "    <tr style=\"text-align: right;\">\n",
       "      <th></th>\n",
       "      <th>ADMD_NM</th>\n",
       "      <th>time</th>\n",
       "      <th>gs_num</th>\n",
       "    </tr>\n",
       "  </thead>\n",
       "  <tbody>\n",
       "    <tr>\n",
       "      <th>0</th>\n",
       "      <td>가회동</td>\n",
       "      <td>2018-03-31</td>\n",
       "      <td>1</td>\n",
       "    </tr>\n",
       "    <tr>\n",
       "      <th>1</th>\n",
       "      <td>가회동</td>\n",
       "      <td>2018-06-30</td>\n",
       "      <td>1</td>\n",
       "    </tr>\n",
       "    <tr>\n",
       "      <th>2</th>\n",
       "      <td>가회동</td>\n",
       "      <td>2018-09-30</td>\n",
       "      <td>1</td>\n",
       "    </tr>\n",
       "    <tr>\n",
       "      <th>3</th>\n",
       "      <td>가회동</td>\n",
       "      <td>2018-12-31</td>\n",
       "      <td>1</td>\n",
       "    </tr>\n",
       "    <tr>\n",
       "      <th>4</th>\n",
       "      <td>가회동</td>\n",
       "      <td>2019-03-31</td>\n",
       "      <td>1</td>\n",
       "    </tr>\n",
       "    <tr>\n",
       "      <th>5</th>\n",
       "      <td>공릉1동</td>\n",
       "      <td>2018-03-31</td>\n",
       "      <td>8</td>\n",
       "    </tr>\n",
       "    <tr>\n",
       "      <th>6</th>\n",
       "      <td>공릉1동</td>\n",
       "      <td>2018-06-30</td>\n",
       "      <td>8</td>\n",
       "    </tr>\n",
       "    <tr>\n",
       "      <th>7</th>\n",
       "      <td>공릉1동</td>\n",
       "      <td>2018-09-30</td>\n",
       "      <td>8</td>\n",
       "    </tr>\n",
       "    <tr>\n",
       "      <th>8</th>\n",
       "      <td>공릉1동</td>\n",
       "      <td>2018-12-31</td>\n",
       "      <td>8</td>\n",
       "    </tr>\n",
       "    <tr>\n",
       "      <th>9</th>\n",
       "      <td>공릉1동</td>\n",
       "      <td>2019-03-31</td>\n",
       "      <td>10</td>\n",
       "    </tr>\n",
       "    <tr>\n",
       "      <th>10</th>\n",
       "      <td>공릉2동</td>\n",
       "      <td>2018-03-31</td>\n",
       "      <td>11</td>\n",
       "    </tr>\n",
       "    <tr>\n",
       "      <th>11</th>\n",
       "      <td>공릉2동</td>\n",
       "      <td>2018-06-30</td>\n",
       "      <td>11</td>\n",
       "    </tr>\n",
       "    <tr>\n",
       "      <th>12</th>\n",
       "      <td>공릉2동</td>\n",
       "      <td>2018-09-30</td>\n",
       "      <td>11</td>\n",
       "    </tr>\n",
       "    <tr>\n",
       "      <th>13</th>\n",
       "      <td>공릉2동</td>\n",
       "      <td>2018-12-31</td>\n",
       "      <td>11</td>\n",
       "    </tr>\n",
       "    <tr>\n",
       "      <th>14</th>\n",
       "      <td>공릉2동</td>\n",
       "      <td>2019-03-31</td>\n",
       "      <td>11</td>\n",
       "    </tr>\n",
       "    <tr>\n",
       "      <th>15</th>\n",
       "      <td>교남동</td>\n",
       "      <td>2018-03-31</td>\n",
       "      <td>1</td>\n",
       "    </tr>\n",
       "    <tr>\n",
       "      <th>16</th>\n",
       "      <td>교남동</td>\n",
       "      <td>2018-06-30</td>\n",
       "      <td>1</td>\n",
       "    </tr>\n",
       "    <tr>\n",
       "      <th>17</th>\n",
       "      <td>교남동</td>\n",
       "      <td>2018-09-30</td>\n",
       "      <td>1</td>\n",
       "    </tr>\n",
       "    <tr>\n",
       "      <th>18</th>\n",
       "      <td>교남동</td>\n",
       "      <td>2018-12-31</td>\n",
       "      <td>2</td>\n",
       "    </tr>\n",
       "    <tr>\n",
       "      <th>19</th>\n",
       "      <td>교남동</td>\n",
       "      <td>2019-03-31</td>\n",
       "      <td>2</td>\n",
       "    </tr>\n",
       "    <tr>\n",
       "      <th>20</th>\n",
       "      <td>무악동</td>\n",
       "      <td>2018-03-31</td>\n",
       "      <td>2</td>\n",
       "    </tr>\n",
       "    <tr>\n",
       "      <th>21</th>\n",
       "      <td>무악동</td>\n",
       "      <td>2018-06-30</td>\n",
       "      <td>2</td>\n",
       "    </tr>\n",
       "    <tr>\n",
       "      <th>22</th>\n",
       "      <td>무악동</td>\n",
       "      <td>2018-09-30</td>\n",
       "      <td>2</td>\n",
       "    </tr>\n",
       "    <tr>\n",
       "      <th>23</th>\n",
       "      <td>무악동</td>\n",
       "      <td>2018-12-31</td>\n",
       "      <td>2</td>\n",
       "    </tr>\n",
       "    <tr>\n",
       "      <th>24</th>\n",
       "      <td>무악동</td>\n",
       "      <td>2019-03-31</td>\n",
       "      <td>2</td>\n",
       "    </tr>\n",
       "    <tr>\n",
       "      <th>25</th>\n",
       "      <td>부암동</td>\n",
       "      <td>2018-03-31</td>\n",
       "      <td>5</td>\n",
       "    </tr>\n",
       "    <tr>\n",
       "      <th>26</th>\n",
       "      <td>부암동</td>\n",
       "      <td>2018-06-30</td>\n",
       "      <td>5</td>\n",
       "    </tr>\n",
       "    <tr>\n",
       "      <th>27</th>\n",
       "      <td>부암동</td>\n",
       "      <td>2018-09-30</td>\n",
       "      <td>5</td>\n",
       "    </tr>\n",
       "    <tr>\n",
       "      <th>28</th>\n",
       "      <td>부암동</td>\n",
       "      <td>2018-12-31</td>\n",
       "      <td>5</td>\n",
       "    </tr>\n",
       "    <tr>\n",
       "      <th>29</th>\n",
       "      <td>부암동</td>\n",
       "      <td>2019-03-31</td>\n",
       "      <td>5</td>\n",
       "    </tr>\n",
       "    <tr>\n",
       "      <th>...</th>\n",
       "      <td>...</td>\n",
       "      <td>...</td>\n",
       "      <td>...</td>\n",
       "    </tr>\n",
       "    <tr>\n",
       "      <th>150</th>\n",
       "      <td>창신3동</td>\n",
       "      <td>2018-03-31</td>\n",
       "      <td>1</td>\n",
       "    </tr>\n",
       "    <tr>\n",
       "      <th>151</th>\n",
       "      <td>창신3동</td>\n",
       "      <td>2018-06-30</td>\n",
       "      <td>1</td>\n",
       "    </tr>\n",
       "    <tr>\n",
       "      <th>152</th>\n",
       "      <td>창신3동</td>\n",
       "      <td>2018-09-30</td>\n",
       "      <td>1</td>\n",
       "    </tr>\n",
       "    <tr>\n",
       "      <th>153</th>\n",
       "      <td>창신3동</td>\n",
       "      <td>2018-12-31</td>\n",
       "      <td>1</td>\n",
       "    </tr>\n",
       "    <tr>\n",
       "      <th>154</th>\n",
       "      <td>창신3동</td>\n",
       "      <td>2019-03-31</td>\n",
       "      <td>1</td>\n",
       "    </tr>\n",
       "    <tr>\n",
       "      <th>155</th>\n",
       "      <td>청운효자동</td>\n",
       "      <td>2018-03-31</td>\n",
       "      <td>5</td>\n",
       "    </tr>\n",
       "    <tr>\n",
       "      <th>156</th>\n",
       "      <td>청운효자동</td>\n",
       "      <td>2018-06-30</td>\n",
       "      <td>5</td>\n",
       "    </tr>\n",
       "    <tr>\n",
       "      <th>157</th>\n",
       "      <td>청운효자동</td>\n",
       "      <td>2018-09-30</td>\n",
       "      <td>5</td>\n",
       "    </tr>\n",
       "    <tr>\n",
       "      <th>158</th>\n",
       "      <td>청운효자동</td>\n",
       "      <td>2018-12-31</td>\n",
       "      <td>5</td>\n",
       "    </tr>\n",
       "    <tr>\n",
       "      <th>159</th>\n",
       "      <td>청운효자동</td>\n",
       "      <td>2019-03-31</td>\n",
       "      <td>6</td>\n",
       "    </tr>\n",
       "    <tr>\n",
       "      <th>160</th>\n",
       "      <td>평창동</td>\n",
       "      <td>2018-03-31</td>\n",
       "      <td>3</td>\n",
       "    </tr>\n",
       "    <tr>\n",
       "      <th>161</th>\n",
       "      <td>평창동</td>\n",
       "      <td>2018-06-30</td>\n",
       "      <td>3</td>\n",
       "    </tr>\n",
       "    <tr>\n",
       "      <th>162</th>\n",
       "      <td>평창동</td>\n",
       "      <td>2018-09-30</td>\n",
       "      <td>4</td>\n",
       "    </tr>\n",
       "    <tr>\n",
       "      <th>163</th>\n",
       "      <td>평창동</td>\n",
       "      <td>2018-12-31</td>\n",
       "      <td>4</td>\n",
       "    </tr>\n",
       "    <tr>\n",
       "      <th>164</th>\n",
       "      <td>평창동</td>\n",
       "      <td>2019-03-31</td>\n",
       "      <td>4</td>\n",
       "    </tr>\n",
       "    <tr>\n",
       "      <th>165</th>\n",
       "      <td>하계1동</td>\n",
       "      <td>2018-03-31</td>\n",
       "      <td>3</td>\n",
       "    </tr>\n",
       "    <tr>\n",
       "      <th>166</th>\n",
       "      <td>하계1동</td>\n",
       "      <td>2018-06-30</td>\n",
       "      <td>4</td>\n",
       "    </tr>\n",
       "    <tr>\n",
       "      <th>167</th>\n",
       "      <td>하계1동</td>\n",
       "      <td>2018-09-30</td>\n",
       "      <td>4</td>\n",
       "    </tr>\n",
       "    <tr>\n",
       "      <th>168</th>\n",
       "      <td>하계1동</td>\n",
       "      <td>2018-12-31</td>\n",
       "      <td>4</td>\n",
       "    </tr>\n",
       "    <tr>\n",
       "      <th>169</th>\n",
       "      <td>하계1동</td>\n",
       "      <td>2019-03-31</td>\n",
       "      <td>4</td>\n",
       "    </tr>\n",
       "    <tr>\n",
       "      <th>170</th>\n",
       "      <td>하계2동</td>\n",
       "      <td>2018-03-31</td>\n",
       "      <td>2</td>\n",
       "    </tr>\n",
       "    <tr>\n",
       "      <th>171</th>\n",
       "      <td>하계2동</td>\n",
       "      <td>2018-06-30</td>\n",
       "      <td>2</td>\n",
       "    </tr>\n",
       "    <tr>\n",
       "      <th>172</th>\n",
       "      <td>하계2동</td>\n",
       "      <td>2018-09-30</td>\n",
       "      <td>2</td>\n",
       "    </tr>\n",
       "    <tr>\n",
       "      <th>173</th>\n",
       "      <td>하계2동</td>\n",
       "      <td>2018-12-31</td>\n",
       "      <td>2</td>\n",
       "    </tr>\n",
       "    <tr>\n",
       "      <th>174</th>\n",
       "      <td>하계2동</td>\n",
       "      <td>2019-03-31</td>\n",
       "      <td>3</td>\n",
       "    </tr>\n",
       "    <tr>\n",
       "      <th>175</th>\n",
       "      <td>혜화동</td>\n",
       "      <td>2018-03-31</td>\n",
       "      <td>7</td>\n",
       "    </tr>\n",
       "    <tr>\n",
       "      <th>176</th>\n",
       "      <td>혜화동</td>\n",
       "      <td>2018-06-30</td>\n",
       "      <td>7</td>\n",
       "    </tr>\n",
       "    <tr>\n",
       "      <th>177</th>\n",
       "      <td>혜화동</td>\n",
       "      <td>2018-09-30</td>\n",
       "      <td>7</td>\n",
       "    </tr>\n",
       "    <tr>\n",
       "      <th>178</th>\n",
       "      <td>혜화동</td>\n",
       "      <td>2018-12-31</td>\n",
       "      <td>7</td>\n",
       "    </tr>\n",
       "    <tr>\n",
       "      <th>179</th>\n",
       "      <td>혜화동</td>\n",
       "      <td>2019-03-31</td>\n",
       "      <td>7</td>\n",
       "    </tr>\n",
       "  </tbody>\n",
       "</table>\n",
       "<p>180 rows × 3 columns</p>\n",
       "</div>"
      ],
      "text/plain": [
       "    ADMD_NM        time  gs_num\n",
       "0       가회동  2018-03-31       1\n",
       "1       가회동  2018-06-30       1\n",
       "2       가회동  2018-09-30       1\n",
       "3       가회동  2018-12-31       1\n",
       "4       가회동  2019-03-31       1\n",
       "5      공릉1동  2018-03-31       8\n",
       "6      공릉1동  2018-06-30       8\n",
       "7      공릉1동  2018-09-30       8\n",
       "8      공릉1동  2018-12-31       8\n",
       "9      공릉1동  2019-03-31      10\n",
       "10     공릉2동  2018-03-31      11\n",
       "11     공릉2동  2018-06-30      11\n",
       "12     공릉2동  2018-09-30      11\n",
       "13     공릉2동  2018-12-31      11\n",
       "14     공릉2동  2019-03-31      11\n",
       "15      교남동  2018-03-31       1\n",
       "16      교남동  2018-06-30       1\n",
       "17      교남동  2018-09-30       1\n",
       "18      교남동  2018-12-31       2\n",
       "19      교남동  2019-03-31       2\n",
       "20      무악동  2018-03-31       2\n",
       "21      무악동  2018-06-30       2\n",
       "22      무악동  2018-09-30       2\n",
       "23      무악동  2018-12-31       2\n",
       "24      무악동  2019-03-31       2\n",
       "25      부암동  2018-03-31       5\n",
       "26      부암동  2018-06-30       5\n",
       "27      부암동  2018-09-30       5\n",
       "28      부암동  2018-12-31       5\n",
       "29      부암동  2019-03-31       5\n",
       "..      ...         ...     ...\n",
       "150    창신3동  2018-03-31       1\n",
       "151    창신3동  2018-06-30       1\n",
       "152    창신3동  2018-09-30       1\n",
       "153    창신3동  2018-12-31       1\n",
       "154    창신3동  2019-03-31       1\n",
       "155   청운효자동  2018-03-31       5\n",
       "156   청운효자동  2018-06-30       5\n",
       "157   청운효자동  2018-09-30       5\n",
       "158   청운효자동  2018-12-31       5\n",
       "159   청운효자동  2019-03-31       6\n",
       "160     평창동  2018-03-31       3\n",
       "161     평창동  2018-06-30       3\n",
       "162     평창동  2018-09-30       4\n",
       "163     평창동  2018-12-31       4\n",
       "164     평창동  2019-03-31       4\n",
       "165    하계1동  2018-03-31       3\n",
       "166    하계1동  2018-06-30       4\n",
       "167    하계1동  2018-09-30       4\n",
       "168    하계1동  2018-12-31       4\n",
       "169    하계1동  2019-03-31       4\n",
       "170    하계2동  2018-03-31       2\n",
       "171    하계2동  2018-06-30       2\n",
       "172    하계2동  2018-09-30       2\n",
       "173    하계2동  2018-12-31       2\n",
       "174    하계2동  2019-03-31       3\n",
       "175     혜화동  2018-03-31       7\n",
       "176     혜화동  2018-06-30       7\n",
       "177     혜화동  2018-09-30       7\n",
       "178     혜화동  2018-12-31       7\n",
       "179     혜화동  2019-03-31       7\n",
       "\n",
       "[180 rows x 3 columns]"
      ]
     },
     "execution_count": 28,
     "metadata": {},
     "output_type": "execute_result"
    }
   ],
   "source": [
    "gs_retail2.loc[-1] = ['가회동','2018-12-31',1]\n",
    "gs_retail2.loc[-2] = ['가회동','2018-09-30',1]\n",
    "gs_retail2.loc[-3] = ['가회동','2018-06-30',1]\n",
    "gs_retail2.loc[-4] = ['가회동','2018-03-31',1]\n",
    "gs_retail2.index = gs_retail2.index +4\n",
    "gs_retail2 = gs_retail2.sort_index()\n",
    "gs_retail2 = gs_retail2.rename(columns = {'행정동명': 'ADMD_NM',0:'gs_num'})\n",
    "gs_retail2"
   ]
  },
  {
   "cell_type": "code",
   "execution_count": 29,
   "metadata": {
    "ExecuteTime": {
     "end_time": "2019-08-27T12:56:23.455252Z",
     "start_time": "2019-08-27T12:56:23.449270Z"
    }
   },
   "outputs": [
    {
     "data": {
      "text/plain": [
       "180"
      ]
     },
     "execution_count": 29,
     "metadata": {},
     "output_type": "execute_result"
    }
   ],
   "source": [
    "len(gs_retail2)"
   ]
  },
  {
   "cell_type": "code",
   "execution_count": 30,
   "metadata": {
    "ExecuteTime": {
     "end_time": "2019-08-27T12:56:23.464194Z",
     "start_time": "2019-08-27T12:56:23.458209Z"
    }
   },
   "outputs": [],
   "source": [
    "gs_distance.rename(columns = {'cri':'time'},inplace=True)"
   ]
  },
  {
   "cell_type": "code",
   "execution_count": 31,
   "metadata": {
    "ExecuteTime": {
     "end_time": "2019-08-27T12:56:23.478157Z",
     "start_time": "2019-08-27T12:56:23.467187Z"
    },
    "scrolled": true
   },
   "outputs": [],
   "source": [
    "gs = pd.merge(gs_retail2,gs_distance,on=['ADMD_NM','time'])"
   ]
  },
  {
   "cell_type": "code",
   "execution_count": 32,
   "metadata": {
    "ExecuteTime": {
     "end_time": "2019-08-27T12:56:23.563927Z",
     "start_time": "2019-08-27T12:56:23.481150Z"
    }
   },
   "outputs": [
    {
     "data": {
      "text/html": [
       "<div>\n",
       "<style scoped>\n",
       "    .dataframe tbody tr th:only-of-type {\n",
       "        vertical-align: middle;\n",
       "    }\n",
       "\n",
       "    .dataframe tbody tr th {\n",
       "        vertical-align: top;\n",
       "    }\n",
       "\n",
       "    .dataframe thead th {\n",
       "        text-align: right;\n",
       "    }\n",
       "</style>\n",
       "<table border=\"1\" class=\"dataframe\">\n",
       "  <thead>\n",
       "    <tr style=\"text-align: right;\">\n",
       "      <th></th>\n",
       "      <th>STD_YMD</th>\n",
       "      <th>ADMD_NM</th>\n",
       "      <th>values</th>\n",
       "      <th>category</th>\n",
       "      <th>category_values</th>\n",
       "      <th>values_ratio</th>\n",
       "      <th>time</th>\n",
       "      <th>gs_num</th>\n",
       "      <th>min_gs</th>\n",
       "      <th>max_gs</th>\n",
       "      <th>median_gs</th>\n",
       "    </tr>\n",
       "  </thead>\n",
       "  <tbody>\n",
       "    <tr>\n",
       "      <th>0</th>\n",
       "      <td>2018-04-01</td>\n",
       "      <td>가회동</td>\n",
       "      <td>0.741018</td>\n",
       "      <td>10_cate</td>\n",
       "      <td>0.238186</td>\n",
       "      <td>0.176500</td>\n",
       "      <td>2018-03-31</td>\n",
       "      <td>1</td>\n",
       "      <td>0.0</td>\n",
       "      <td>0.0</td>\n",
       "      <td>0.0</td>\n",
       "    </tr>\n",
       "    <tr>\n",
       "      <th>1</th>\n",
       "      <td>2018-04-01</td>\n",
       "      <td>가회동</td>\n",
       "      <td>0.741018</td>\n",
       "      <td>20_cate</td>\n",
       "      <td>0.210444</td>\n",
       "      <td>0.155943</td>\n",
       "      <td>2018-03-31</td>\n",
       "      <td>1</td>\n",
       "      <td>0.0</td>\n",
       "      <td>0.0</td>\n",
       "      <td>0.0</td>\n",
       "    </tr>\n",
       "    <tr>\n",
       "      <th>2</th>\n",
       "      <td>2018-04-01</td>\n",
       "      <td>가회동</td>\n",
       "      <td>0.741018</td>\n",
       "      <td>30_cate</td>\n",
       "      <td>0.412769</td>\n",
       "      <td>0.305870</td>\n",
       "      <td>2018-03-31</td>\n",
       "      <td>1</td>\n",
       "      <td>0.0</td>\n",
       "      <td>0.0</td>\n",
       "      <td>0.0</td>\n",
       "    </tr>\n",
       "    <tr>\n",
       "      <th>3</th>\n",
       "      <td>2018-04-01</td>\n",
       "      <td>가회동</td>\n",
       "      <td>0.741018</td>\n",
       "      <td>40_cate</td>\n",
       "      <td>0.016912</td>\n",
       "      <td>0.012532</td>\n",
       "      <td>2018-03-31</td>\n",
       "      <td>1</td>\n",
       "      <td>0.0</td>\n",
       "      <td>0.0</td>\n",
       "      <td>0.0</td>\n",
       "    </tr>\n",
       "    <tr>\n",
       "      <th>4</th>\n",
       "      <td>2018-04-01</td>\n",
       "      <td>가회동</td>\n",
       "      <td>0.741018</td>\n",
       "      <td>50_cate</td>\n",
       "      <td>0.090471</td>\n",
       "      <td>0.067041</td>\n",
       "      <td>2018-03-31</td>\n",
       "      <td>1</td>\n",
       "      <td>0.0</td>\n",
       "      <td>0.0</td>\n",
       "      <td>0.0</td>\n",
       "    </tr>\n",
       "  </tbody>\n",
       "</table>\n",
       "</div>"
      ],
      "text/plain": [
       "     STD_YMD ADMD_NM    values category  category_values  values_ratio  \\\n",
       "0 2018-04-01     가회동  0.741018  10_cate         0.238186      0.176500   \n",
       "1 2018-04-01     가회동  0.741018  20_cate         0.210444      0.155943   \n",
       "2 2018-04-01     가회동  0.741018  30_cate         0.412769      0.305870   \n",
       "3 2018-04-01     가회동  0.741018  40_cate         0.016912      0.012532   \n",
       "4 2018-04-01     가회동  0.741018  50_cate         0.090471      0.067041   \n",
       "\n",
       "         time  gs_num  min_gs  max_gs  median_gs  \n",
       "0  2018-03-31       1     0.0     0.0        0.0  \n",
       "1  2018-03-31       1     0.0     0.0        0.0  \n",
       "2  2018-03-31       1     0.0     0.0        0.0  \n",
       "3  2018-03-31       1     0.0     0.0        0.0  \n",
       "4  2018-03-31       1     0.0     0.0        0.0  "
      ]
     },
     "execution_count": 32,
     "metadata": {},
     "output_type": "execute_result"
    }
   ],
   "source": [
    "cir_final_revised = pd.merge(cir_final,gs,on=['ADMD_NM','time'])\n",
    "cir_final_revised.head()"
   ]
  },
  {
   "cell_type": "markdown",
   "metadata": {},
   "source": [
    "## Merge {유동 + 유통 + GS} data"
   ]
  },
  {
   "cell_type": "code",
   "execution_count": 33,
   "metadata": {
    "ExecuteTime": {
     "end_time": "2019-08-27T12:56:23.585868Z",
     "start_time": "2019-08-27T12:56:23.566921Z"
    }
   },
   "outputs": [
    {
     "data": {
      "text/html": [
       "<div>\n",
       "<style scoped>\n",
       "    .dataframe tbody tr th:only-of-type {\n",
       "        vertical-align: middle;\n",
       "    }\n",
       "\n",
       "    .dataframe tbody tr th {\n",
       "        vertical-align: top;\n",
       "    }\n",
       "\n",
       "    .dataframe thead th {\n",
       "        text-align: right;\n",
       "    }\n",
       "</style>\n",
       "<table border=\"1\" class=\"dataframe\">\n",
       "  <thead>\n",
       "    <tr style=\"text-align: right;\">\n",
       "      <th></th>\n",
       "      <th>STD_YMD</th>\n",
       "      <th>ADMD_NM</th>\n",
       "      <th>SEX_CD</th>\n",
       "      <th>AGE_CD</th>\n",
       "      <th>trans_pop</th>\n",
       "    </tr>\n",
       "  </thead>\n",
       "  <tbody>\n",
       "    <tr>\n",
       "      <th>0</th>\n",
       "      <td>20180401</td>\n",
       "      <td>가회동</td>\n",
       "      <td>F</td>\n",
       "      <td>20</td>\n",
       "      <td>1160.64</td>\n",
       "    </tr>\n",
       "    <tr>\n",
       "      <th>1</th>\n",
       "      <td>20180401</td>\n",
       "      <td>가회동</td>\n",
       "      <td>F</td>\n",
       "      <td>25</td>\n",
       "      <td>832.24</td>\n",
       "    </tr>\n",
       "    <tr>\n",
       "      <th>2</th>\n",
       "      <td>20180401</td>\n",
       "      <td>가회동</td>\n",
       "      <td>F</td>\n",
       "      <td>30</td>\n",
       "      <td>729.24</td>\n",
       "    </tr>\n",
       "    <tr>\n",
       "      <th>3</th>\n",
       "      <td>20180401</td>\n",
       "      <td>가회동</td>\n",
       "      <td>F</td>\n",
       "      <td>35</td>\n",
       "      <td>812.86</td>\n",
       "    </tr>\n",
       "    <tr>\n",
       "      <th>4</th>\n",
       "      <td>20180401</td>\n",
       "      <td>가회동</td>\n",
       "      <td>F</td>\n",
       "      <td>40</td>\n",
       "      <td>741.41</td>\n",
       "    </tr>\n",
       "  </tbody>\n",
       "</table>\n",
       "</div>"
      ],
      "text/plain": [
       "    STD_YMD ADMD_NM SEX_CD  AGE_CD  trans_pop\n",
       "0  20180401     가회동      F      20    1160.64\n",
       "1  20180401     가회동      F      25     832.24\n",
       "2  20180401     가회동      F      30     729.24\n",
       "3  20180401     가회동      F      35     812.86\n",
       "4  20180401     가회동      F      40     741.41"
      ]
     },
     "execution_count": 33,
     "metadata": {},
     "output_type": "execute_result"
    }
   ],
   "source": [
    "new_tp2.head()"
   ]
  },
  {
   "cell_type": "code",
   "execution_count": 34,
   "metadata": {
    "ExecuteTime": {
     "end_time": "2019-08-27T12:56:23.874100Z",
     "start_time": "2019-08-27T12:56:23.588862Z"
    }
   },
   "outputs": [],
   "source": [
    "new_tp2['STD_YMD'] = pd.to_datetime(new_tp2['STD_YMD'],format='%Y%m%d')\n",
    "cir_final_revised['STD_YMD'] = pd.to_datetime(cir_final_revised['STD_YMD'],format='%Y-%m-%d')"
   ]
  },
  {
   "cell_type": "code",
   "execution_count": 35,
   "metadata": {
    "ExecuteTime": {
     "end_time": "2019-08-27T12:56:26.798285Z",
     "start_time": "2019-08-27T12:56:23.877092Z"
    }
   },
   "outputs": [
    {
     "data": {
      "text/plain": [
       "36"
      ]
     },
     "execution_count": 35,
     "metadata": {},
     "output_type": "execute_result"
    }
   ],
   "source": [
    "new_tp3 = pd.merge(new_tp2,cir_final_revised,on=['STD_YMD','ADMD_NM'])\n",
    "len(np.unique(new_tp3['ADMD_NM']))"
   ]
  },
  {
   "cell_type": "code",
   "execution_count": 36,
   "metadata": {
    "ExecuteTime": {
     "end_time": "2019-08-27T12:57:54.870904Z",
     "start_time": "2019-08-27T12:56:26.801311Z"
    }
   },
   "outputs": [],
   "source": [
    "new_tp3.to_csv('가공데이터/merge_유동_유통_edit1.csv',encoding='utf-8')"
   ]
  },
  {
   "cell_type": "markdown",
   "metadata": {},
   "source": [
    "## Merge {유동 + 유통 + 환경} data"
   ]
  },
  {
   "cell_type": "code",
   "execution_count": 37,
   "metadata": {
    "ExecuteTime": {
     "end_time": "2019-08-27T12:57:55.000523Z",
     "start_time": "2019-08-27T12:57:54.872865Z"
    }
   },
   "outputs": [],
   "source": [
    "air = pd.read_csv('가공데이터/환경_edit1.csv')"
   ]
  },
  {
   "cell_type": "code",
   "execution_count": 38,
   "metadata": {
    "ExecuteTime": {
     "end_time": "2019-08-27T12:57:55.024464Z",
     "start_time": "2019-08-27T12:57:55.002519Z"
    }
   },
   "outputs": [
    {
     "name": "stdout",
     "output_type": "stream",
     "text": [
      "<class 'pandas.core.frame.DataFrame'>\n",
      "RangeIndex: 10220 entries, 0 to 10219\n",
      "Data columns (total 29 columns):\n",
      "date                    10220 non-null object\n",
      "year                    10220 non-null int64\n",
      "quarter                 10220 non-null int64\n",
      "month                   10220 non-null int64\n",
      "weekday                 10220 non-null object\n",
      "day                     10220 non-null int64\n",
      "district                10220 non-null object\n",
      "gu                      10220 non-null object\n",
      "p10_most_freq_day       10220 non-null object\n",
      "p10_mean_day            10220 non-null float64\n",
      "p10_25per               10220 non-null float64\n",
      "p10_median_day          10220 non-null float64\n",
      "p10_75per               10220 non-null float64\n",
      "p25_most_freq_day       10220 non-null object\n",
      "p25_mean_day            10220 non-null float64\n",
      "p25_25per               10220 non-null float64\n",
      "p25_median_day          10220 non-null float64\n",
      "p25_75per               10220 non-null float64\n",
      "humi_mean_day           10220 non-null float64\n",
      "humi_median_day         10220 non-null float64\n",
      "humi_25per              10220 non-null float64\n",
      "humi_75per              10220 non-null float64\n",
      "temp_mean_day           10220 non-null float64\n",
      "temp_median_day         10220 non-null float64\n",
      "temp_25per              10220 non-null float64\n",
      "temp_75per              10220 non-null float64\n",
      "noise_mean_day          10220 non-null float64\n",
      "noise_median_day        10220 non-null float64\n",
      "dis_index_most_freq2    10220 non-null object\n",
      "dtypes: float64(18), int64(4), object(7)\n",
      "memory usage: 2.3+ MB\n"
     ]
    }
   ],
   "source": [
    "air.info()"
   ]
  },
  {
   "cell_type": "code",
   "execution_count": 39,
   "metadata": {
    "ExecuteTime": {
     "end_time": "2019-08-27T12:57:55.042450Z",
     "start_time": "2019-08-27T12:57:55.027453Z"
    }
   },
   "outputs": [],
   "source": [
    "air['date'] = pd.to_datetime(air['date'])"
   ]
  },
  {
   "cell_type": "code",
   "execution_count": 40,
   "metadata": {
    "ExecuteTime": {
     "end_time": "2019-08-27T12:57:55.554042Z",
     "start_time": "2019-08-27T12:57:55.046402Z"
    }
   },
   "outputs": [],
   "source": [
    "new_tp3.rename(columns = {'STD_YMD':'date','ADMD_NM':'district'},inplace=True)"
   ]
  },
  {
   "cell_type": "code",
   "execution_count": 41,
   "metadata": {
    "ExecuteTime": {
     "end_time": "2019-08-27T12:57:58.326632Z",
     "start_time": "2019-08-27T12:57:55.557035Z"
    }
   },
   "outputs": [],
   "source": [
    "mvp = pd.merge(air,new_tp3,on=['date','district'])"
   ]
  },
  {
   "cell_type": "markdown",
   "metadata": {},
   "source": [
    "{환경 + 유동 + 유통} data가 26개 동만 남음이 확인 되었다."
   ]
  },
  {
   "cell_type": "code",
   "execution_count": 42,
   "metadata": {
    "ExecuteTime": {
     "end_time": "2019-08-27T12:57:59.593280Z",
     "start_time": "2019-08-27T12:57:58.328626Z"
    }
   },
   "outputs": [
    {
     "data": {
      "text/plain": [
       "26"
      ]
     },
     "execution_count": 42,
     "metadata": {},
     "output_type": "execute_result"
    }
   ],
   "source": [
    "len(np.unique(mvp['district']))"
   ]
  },
  {
   "cell_type": "code",
   "execution_count": 43,
   "metadata": {
    "ExecuteTime": {
     "end_time": "2019-08-27T13:00:28.032476Z",
     "start_time": "2019-08-27T12:57:59.597236Z"
    }
   },
   "outputs": [],
   "source": [
    "mvp.to_csv('가공데이터/merge_유통_유동_환경_소상공인_edit2.csv',encoding='utf-8')"
   ]
  },
  {
   "cell_type": "code",
   "execution_count": null,
   "metadata": {},
   "outputs": [],
   "source": []
  },
  {
   "cell_type": "code",
   "execution_count": null,
   "metadata": {},
   "outputs": [],
   "source": []
  },
  {
   "cell_type": "code",
   "execution_count": null,
   "metadata": {},
   "outputs": [],
   "source": []
  },
  {
   "cell_type": "code",
   "execution_count": null,
   "metadata": {},
   "outputs": [],
   "source": []
  }
 ],
 "metadata": {
  "kernelspec": {
   "display_name": "Python 3",
   "language": "python",
   "name": "python3"
  },
  "language_info": {
   "codemirror_mode": {
    "name": "ipython",
    "version": 3
   },
   "file_extension": ".py",
   "mimetype": "text/x-python",
   "name": "python",
   "nbconvert_exporter": "python",
   "pygments_lexer": "ipython3",
   "version": "3.6.8"
  },
  "toc": {
   "base_numbering": 1,
   "nav_menu": {},
   "number_sections": true,
   "sideBar": true,
   "skip_h1_title": false,
   "title_cell": "Table of Contents",
   "title_sidebar": "Contents",
   "toc_cell": false,
   "toc_position": {},
   "toc_section_display": true,
   "toc_window_display": false
  }
 },
 "nbformat": 4,
 "nbformat_minor": 2
}
